{
 "cells": [
  {
   "cell_type": "markdown",
   "id": "ddf75e44",
   "metadata": {},
   "source": [
    "## 🎥🍿🍬 Movie Recommender System 🍬🍿🎥\n",
    "\n",
    "#### Group 2: Anish Adimulam, Saad Ahmad, Sydney Johnson, Yvette Soto, Trinity Thao, Saye Xavier\n",
    "\n",
    "In this final project, we create a recommender system that showcases movies to viewers based on their rating history. The movies shown will be based on the type of rating(s) the user has given per genre of movie they watched. The goal of this final project is to showcase the skills we have learned throughout the semester to create a usable product with our dataset.\n",
    "\n",
    "Our project will answer two central questions:\n",
    "- How strong will the recommendations for the user’s highest rated genres be?\n",
    "- Can we introduce users to movies they would've never otherwise watched?\n",
    "\n",
    "Our dataset is the __Movielens Latest Small__ dataset. The dataset can be found at: https://grouplens.org/datasets/movielens/latest/\n",
    "\n",
    "This dataset consists of four _csv_ files:\n",
    "- movies.csv\n",
    "- ratings.csv\n",
    "- tags.csv\n",
    "- links.csv\n",
    "\n",
    "_In our project, we will only use the __movies.csv__ and __ratings.csv__ files to build our system._\n",
    "\n",
    "The __movies.csv__ consists of the following:\n",
    "- `movieID`\n",
    "- `title`\n",
    "- `genres`\n",
    "\n",
    "The __ratings.csv__ consists of the following:\n",
    "- `userID`\n",
    "- `movieID`\n",
    "- `rating`\n",
    "- `timestamp`\n",
    "\n",
    "\n",
    "Our methodology for this project is as follows:\n",
    "- Perform __Pre-processing__\n",
    "<br>\n",
    "    - Check for missing values\n",
    "    - Make sure IDs match between the movies.csv file and the ratings.csv file\n",
    "<br>\n",
    "- Conduct __Preference Analysis__\n",
    "<br>\n",
    "    - Identify movies with 4 stars or higher from the dataset and extract their genres\n",
    "    - Count amount of times each genre shows up in a user's list\n",
    "    - Create a preference vector based on their rating counts\n",
    "<br>\n",
    "- Finalize with __Cosine Similarity__\n",
    "<br>\n",
    "    - Normalize preference vector\n",
    "    - Create a genre vector representing unwatched movies' genres (one-hot encoding will be used to represent genres)\n",
    "    - Calculate cosine similarity between user's preference vector and each unwatched movie's genre vector\n",
    "    - Store similarity scores for each unwatched movie and sort the movies in descending order based on score\n",
    "    - Select the top K highest-ranked movies as the user's personalized recommendations"
   ]
  },
  {
   "cell_type": "code",
   "execution_count": 1,
   "id": "f80cba61-5ddf-406a-8b70-441c5fe4637f",
   "metadata": {},
   "outputs": [],
   "source": [
    "#Imports\n",
    "import pandas as pd"
   ]
  },
  {
   "cell_type": "code",
   "execution_count": 2,
   "id": "0d4fc750-4680-417d-8406-112aa31a9f93",
   "metadata": {},
   "outputs": [],
   "source": [
    "#Load the data files\n",
    "movies = pd.read_csv('movies.csv')\n",
    "ratings = pd.read_csv('ratings.csv')"
   ]
  },
  {
   "cell_type": "markdown",
   "id": "a3fa7f86-ea4c-4185-88a8-e2a22aa1c876",
   "metadata": {},
   "source": [
    "### Pre-Processing"
   ]
  },
  {
   "cell_type": "code",
   "execution_count": 3,
   "id": "94a0bf49-69d9-4e65-bc5a-4b0ee42089b1",
   "metadata": {},
   "outputs": [
    {
     "name": "stdout",
     "output_type": "stream",
     "text": [
      "Checking for missing data:\n",
      "Movies missing data: movieId    0\n",
      "title      0\n",
      "genres     0\n",
      "dtype: int64\n",
      "Ratings missing data: userId       0\n",
      "movieId      0\n",
      "rating       0\n",
      "timestamp    0\n",
      "dtype: int64\n"
     ]
    }
   ],
   "source": [
    "#Check if any data is missing\n",
    "movies_missing = movies.isnull().sum()\n",
    "ratings_missing = ratings.isnull().sum()\n",
    "print(\"Checking for missing data:\")\n",
    "print(\"Movies missing data:\", movies_missing)\n",
    "print(\"Ratings missing data:\", ratings_missing)"
   ]
  },
  {
   "cell_type": "code",
   "execution_count": 4,
   "id": "2df89935-e9b2-4d0a-9f0a-1bb94f5c29e7",
   "metadata": {},
   "outputs": [
    {
     "name": "stdout",
     "output_type": "stream",
     "text": [
      "All movie IDs match!\n"
     ]
    }
   ],
   "source": [
    "#Checking if movies in ratings exist in movies file\n",
    "rating_movie_ids = set(ratings['movieId'])\n",
    "movie_ids = set(movies['movieId'])\n",
    "movies_only_in_ratings = rating_movie_ids - movie_ids\n",
    "if len(movies_only_in_ratings) == 0:\n",
    "    print(\"All movie IDs match!\")\n",
    "else:\n",
    "    print(\"Found\", len(movies_only_in_ratings), \"movies in ratings that don't exist in movies.csv\")"
   ]
  },
  {
   "cell_type": "code",
   "execution_count": 5,
   "id": "a24a79b5-52ff-43ad-a178-20639377ec1d",
   "metadata": {},
   "outputs": [],
   "source": [
    "#Convert timestamp to date\n",
    "from datetime import datetime\n",
    "ratings['date'] = ratings['timestamp'].apply(lambda x: datetime.fromtimestamp(x))"
   ]
  },
  {
   "cell_type": "markdown",
   "id": "463a0813-357d-4a60-97c1-3a74a843e926",
   "metadata": {},
   "source": [
    "### Preference Analysis"
   ]
  },
  {
   "cell_type": "code",
   "execution_count": 6,
   "id": "1a6dd77b-c62b-42d6-9b41-d355ea40e185",
   "metadata": {},
   "outputs": [],
   "source": [
    "# Split ratings into train and test\n",
    "from sklearn.model_selection import train_test_split\n",
    "\n",
    "# Initialize empty lists to collect the dataframes\n",
    "train_dfs = []\n",
    "test_dfs = []\n",
    "\n",
    "# For each user, split their ratings into train (80%) and test (20%)\n",
    "for user in ratings['userId'].unique():\n",
    "    user_ratings = ratings[ratings['userId'] == user]\n",
    "    user_train, user_test = train_test_split(user_ratings, test_size=0.2, random_state=42)\n",
    "    train_dfs.append(user_train)\n",
    "    test_dfs.append(user_test)\n",
    "\n",
    "# Concatenate all the dataframes at once\n",
    "train_ratings = pd.concat(train_dfs, ignore_index=True)\n",
    "test_ratings = pd.concat(test_dfs, ignore_index=True)"
   ]
  },
  {
   "cell_type": "code",
   "execution_count": 7,
   "id": "69a1818e-87e1-4c0f-9591-e1b17f267490",
   "metadata": {},
   "outputs": [
    {
     "name": "stdout",
     "output_type": "stream",
     "text": [
      "Number of 4+ star ratings: 38742\n"
     ]
    }
   ],
   "source": [
    "#Find movies rated 4 stars or higher\n",
    "good_ratings = train_ratings[train_ratings['rating'] >= 4.0]\n",
    "print(\"Number of 4+ star ratings:\", len(good_ratings))"
   ]
  },
  {
   "cell_type": "code",
   "execution_count": 8,
   "id": "664a0b09-bf0d-4bc0-854c-5ac6c6959881",
   "metadata": {},
   "outputs": [],
   "source": [
    "#Split genres into lists\n",
    "movies['genre_list'] = movies['genres'].str.split('|')"
   ]
  },
  {
   "cell_type": "code",
   "execution_count": 9,
   "id": "38635c16-7482-4761-8e1a-57cfdaa54d67",
   "metadata": {},
   "outputs": [
    {
     "name": "stdout",
     "output_type": "stream",
     "text": [
      "Found 20 unique genres\n"
     ]
    }
   ],
   "source": [
    "#Get all unique genres\n",
    "all_genres = []\n",
    "for index, row in movies.iterrows():\n",
    "    genres = row['genre_list']\n",
    "    for genre in genres:\n",
    "        if genre not in all_genres:\n",
    "            all_genres.append(genre)\n",
    "all_genres.sort()\n",
    "print(\"Found\", len(all_genres), \"unique genres\")"
   ]
  },
  {
   "cell_type": "code",
   "execution_count": 10,
   "id": "24ac1878-2d7c-4a51-a2f8-6012853c85f2",
   "metadata": {},
   "outputs": [],
   "source": [
    "# Create preference vectors for each user\n",
    "user_preferences = {}\n",
    "unique_users = ratings['userId'].unique()\n",
    "\n",
    "for user in unique_users:\n",
    "    # Get their highly rated movies\n",
    "    user_good_ratings = good_ratings[good_ratings['userId'] == user]\n",
    "    \n",
    "    # Count each genre\n",
    "    genre_counts = {}\n",
    "    for genre in all_genres:\n",
    "        genre_counts[genre] = 0\n",
    "    \n",
    "    # For each highly rated movie, add to genre counts\n",
    "    for index, rating_row in user_good_ratings.iterrows():\n",
    "        movie_id = rating_row['movieId']\n",
    "        movie_row = movies[movies['movieId'] == movie_id]\n",
    "        \n",
    "        if len(movie_row) > 0:\n",
    "            # Instead of .iloc[0], we'll convert to a list and take the first item\n",
    "            movie_genres = list(movie_row['genre_list'])[0]\n",
    "            for genre in movie_genres:\n",
    "                genre_counts[genre] = genre_counts[genre] + 1\n",
    "\n",
    "    # Creating the vector\n",
    "    vector = []\n",
    "    for genre in all_genres:\n",
    "        vector.append(genre_counts[genre])\n",
    "    \n",
    "    user_preferences[user] = vector"
   ]
  },
  {
   "cell_type": "markdown",
   "id": "f111e781-6cc4-4ef2-8915-5f4b712586c3",
   "metadata": {},
   "source": [
    "### User 1 example (can remove) just put this here to make sure it worked."
   ]
  },
  {
   "cell_type": "code",
   "execution_count": 11,
   "id": "77cbae6b-381f-4581-be23-597e0b0e776c",
   "metadata": {},
   "outputs": [
    {
     "name": "stdout",
     "output_type": "stream",
     "text": [
      "\n",
      "Example - User 1 preferences:\n",
      "----------------------------------------\n",
      "Action: 62\n",
      "Adventure: 57\n",
      "Animation: 22\n",
      "Children: 29\n",
      "Comedy: 53\n",
      "Crime: 28\n",
      "Drama: 49\n",
      "Fantasy: 31\n",
      "Film-Noir: 1\n",
      "Horror: 7\n",
      "Musical: 16\n",
      "Mystery: 9\n",
      "Romance: 19\n",
      "Sci-Fi: 25\n",
      "Thriller: 34\n",
      "War: 16\n",
      "Western: 5\n",
      "\n",
      "User 1's top preferred genres:\n",
      "Action: 62 movies\n",
      "Adventure: 57 movies\n",
      "Comedy: 53 movies\n",
      "Drama: 49 movies\n",
      "Thriller: 34 movies\n"
     ]
    }
   ],
   "source": [
    "# Show user preferences\n",
    "print(\"\\nExample - User 1 preferences:\")\n",
    "print(\"-\" * 40)\n",
    "for i, genre in enumerate(all_genres):\n",
    "    count = user_preferences[1][i]\n",
    "    if count > 0:  \n",
    "        print(f\"{genre}: {count}\")\n",
    "\n",
    "# Show top 5 preferred genres\n",
    "print(\"\\nUser 1's top preferred genres:\")\n",
    "user1_vector = user_preferences[1]\n",
    "genre_counts = list(zip(all_genres, user1_vector))\n",
    "sorted_genres = sorted(genre_counts, key=lambda x: x[1], reverse=True)\n",
    "\n",
    "for genre, count in sorted_genres[:5]:\n",
    "    if count > 0:\n",
    "        print(f\"{genre}: {count} movies\")"
   ]
  },
  {
   "cell_type": "markdown",
   "id": "64979a3d",
   "metadata": {},
   "source": [
    "## Cosine Similarity"
   ]
  },
  {
   "cell_type": "code",
   "execution_count": 12,
   "id": "dc5b9c93-8566-4d57-8129-8d659cabb262",
   "metadata": {},
   "outputs": [
    {
     "name": "stdout",
     "output_type": "stream",
     "text": [
      "User 1 recommendations: [117646, 55116, 4956, 6990, 5657, 4818, 42015, 164226, 2890, 82765]\n"
     ]
    }
   ],
   "source": [
    "from sklearn.preprocessing import MultiLabelBinarizer\n",
    "from sklearn.metrics.pairwise import cosine_similarity\n",
    "from numpy.linalg import norm\n",
    "import numpy as np\n",
    "\n",
    "# 1. One‑hot encode all movies by genre\n",
    "mlb = MultiLabelBinarizer(classes=all_genres)\n",
    "genre_matrix = pd.DataFrame(\n",
    "    mlb.fit_transform(movies['genre_list']),\n",
    "    index=movies['movieId'],\n",
    "    columns=all_genres\n",
    ")\n",
    "\n",
    "# 2. Normalize each user’s preference vector\n",
    "user_profiles_norm = {}\n",
    "for uid, vec in user_preferences.items():\n",
    "    v = np.array(vec, dtype=float)\n",
    "    n = norm(v)\n",
    "    user_profiles_norm[uid] = (v / n) if n > 0 else v\n",
    "\n",
    "# 3. For each user, score all unseen movies and pick Top‑K\n",
    "K = 10\n",
    "recommendations = {}\n",
    "\n",
    "for uid, uvec in user_profiles_norm.items():\n",
    "    # movies user has already rated (train)\n",
    "    seen = set(train_ratings[train_ratings['userId'] == uid]['movieId'])\n",
    "    \n",
    "    # candidate pool = all movies minus seen\n",
    "    candidates = genre_matrix.drop(index=seen, errors='ignore')\n",
    "    \n",
    "    # compute cosine similarity\n",
    "    sims = cosine_similarity(uvec.reshape(1, -1), candidates.values)[0]\n",
    "    \n",
    "    # grab the Top‑K movieIds\n",
    "    top_k_ids = candidates.index[np.argsort(sims)[-K:][::-1]]\n",
    "    recommendations[uid] = list(top_k_ids)\n",
    "\n",
    "# 4. Peeking at a user's top 10 films, the first being the highest, as a test.\n",
    "print(\"User 1 recommendations:\", recommendations.get(1, [])[:K])\n"
   ]
  },
  {
   "cell_type": "markdown",
   "id": "6549f426",
   "metadata": {},
   "source": [
    "Highlighting how strongly each recommended movie matches User 1’s genre preferences."
   ]
  },
  {
   "cell_type": "code",
   "execution_count": 13,
   "id": "688a4872",
   "metadata": {},
   "outputs": [
    {
     "data": {
      "image/png": "[encoded data removed]",
      "text/plain": [
       "<Figure size 1000x600 with 1 Axes>"
      ]
     },
     "metadata": {},
     "output_type": "display_data"
    }
   ],
   "source": [
    "import matplotlib.pyplot as plt\n",
    "\n",
    "# For example, re-calculate sims for user 1\n",
    "uvec = user_profiles_norm[1]\n",
    "seen = set(train_ratings[train_ratings['userId'] == 1]['movieId'])\n",
    "candidates = genre_matrix.drop(index=seen, errors='ignore')\n",
    "sims = cosine_similarity(uvec.reshape(1, -1), candidates.values)[0]\n",
    "\n",
    "# Top 10 movie IDs and their scores\n",
    "top_k_idx = np.argsort(sims)[-K:][::-1]\n",
    "top_k_scores = sims[top_k_idx]\n",
    "top_k_movie_ids = candidates.index[top_k_idx]\n",
    "\n",
    "# Map movie IDs to titles\n",
    "top_titles = movies[movies['movieId'].isin(top_k_movie_ids)].set_index('movieId').loc[top_k_movie_ids]['title']\n",
    "\n",
    "# Plot\n",
    "user_id = 1\n",
    "plt.figure(figsize=(10, 6))\n",
    "plt.barh(top_titles, top_k_scores, color='skyblue')\n",
    "plt.xlabel(\"Cosine Similarity Score\")\n",
    "plt.title(f\"User {user_id} - Top 10 Recommended Movies by Cosine Similarity\")\n",
    "plt.gca().invert_yaxis()  # Highest score at top\n",
    "plt.show()\n"
   ]
  },
  {
   "cell_type": "code",
   "execution_count": 14,
   "id": "4743a19c",
   "metadata": {},
   "outputs": [
    {
     "name": "stdout",
     "output_type": "stream",
     "text": [
      "\n",
      "Top 10 Recommendations for User 1:\n"
     ]
    },
    {
     "data": {
      "text/html": [
       "<div>\n",
       "<style scoped>\n",
       "    .dataframe tbody tr th:only-of-type {\n",
       "        vertical-align: middle;\n",
       "    }\n",
       "\n",
       "    .dataframe tbody tr th {\n",
       "        vertical-align: top;\n",
       "    }\n",
       "\n",
       "    .dataframe thead th {\n",
       "        text-align: right;\n",
       "    }\n",
       "</style>\n",
       "<table border=\"1\" class=\"dataframe\">\n",
       "  <thead>\n",
       "    <tr style=\"text-align: right;\">\n",
       "      <th></th>\n",
       "      <th>movieId</th>\n",
       "      <th>title</th>\n",
       "      <th>genres</th>\n",
       "    </tr>\n",
       "  </thead>\n",
       "  <tbody>\n",
       "    <tr>\n",
       "      <th>8597</th>\n",
       "      <td>117646</td>\n",
       "      <td>Dragonheart 2: A New Beginning (2000)</td>\n",
       "      <td>Action|Adventure|Comedy|Drama|Fantasy|Thriller</td>\n",
       "    </tr>\n",
       "    <tr>\n",
       "      <th>6570</th>\n",
       "      <td>55116</td>\n",
       "      <td>Hunting Party, The (2007)</td>\n",
       "      <td>Action|Adventure|Comedy|Drama|Thriller</td>\n",
       "    </tr>\n",
       "    <tr>\n",
       "      <th>3608</th>\n",
       "      <td>4956</td>\n",
       "      <td>Stunt Man, The (1980)</td>\n",
       "      <td>Action|Adventure|Comedy|Drama|Romance|Thriller</td>\n",
       "    </tr>\n",
       "    <tr>\n",
       "      <th>4681</th>\n",
       "      <td>6990</td>\n",
       "      <td>The Great Train Robbery (1978)</td>\n",
       "      <td>Action|Adventure|Comedy|Crime|Drama</td>\n",
       "    </tr>\n",
       "    <tr>\n",
       "      <th>4005</th>\n",
       "      <td>5657</td>\n",
       "      <td>Flashback (1990)</td>\n",
       "      <td>Action|Adventure|Comedy|Crime|Drama</td>\n",
       "    </tr>\n",
       "    <tr>\n",
       "      <th>3526</th>\n",
       "      <td>4818</td>\n",
       "      <td>Extreme Days (2001)</td>\n",
       "      <td>Action|Adventure|Comedy|Drama</td>\n",
       "    </tr>\n",
       "    <tr>\n",
       "      <th>6094</th>\n",
       "      <td>42015</td>\n",
       "      <td>Casanova (2005)</td>\n",
       "      <td>Action|Adventure|Comedy|Drama|Romance</td>\n",
       "    </tr>\n",
       "    <tr>\n",
       "      <th>9394</th>\n",
       "      <td>164226</td>\n",
       "      <td>Maximum Ride (2016)</td>\n",
       "      <td>Action|Adventure|Comedy|Fantasy|Sci-Fi|Thriller</td>\n",
       "    </tr>\n",
       "    <tr>\n",
       "      <th>2174</th>\n",
       "      <td>2890</td>\n",
       "      <td>Three Kings (1999)</td>\n",
       "      <td>Action|Adventure|Comedy|Drama|War</td>\n",
       "    </tr>\n",
       "    <tr>\n",
       "      <th>7492</th>\n",
       "      <td>82765</td>\n",
       "      <td>Little Big Soldier (Da bing xiao jiang) (2010)</td>\n",
       "      <td>Action|Adventure|Comedy|Drama|War</td>\n",
       "    </tr>\n",
       "  </tbody>\n",
       "</table>\n",
       "</div>"
      ],
      "text/plain": [
       "      movieId                                           title  \\\n",
       "8597   117646           Dragonheart 2: A New Beginning (2000)   \n",
       "6570    55116                       Hunting Party, The (2007)   \n",
       "3608     4956                           Stunt Man, The (1980)   \n",
       "4681     6990                  The Great Train Robbery (1978)   \n",
       "4005     5657                                Flashback (1990)   \n",
       "3526     4818                             Extreme Days (2001)   \n",
       "6094    42015                                 Casanova (2005)   \n",
       "9394   164226                             Maximum Ride (2016)   \n",
       "2174     2890                              Three Kings (1999)   \n",
       "7492    82765  Little Big Soldier (Da bing xiao jiang) (2010)   \n",
       "\n",
       "                                               genres  \n",
       "8597   Action|Adventure|Comedy|Drama|Fantasy|Thriller  \n",
       "6570           Action|Adventure|Comedy|Drama|Thriller  \n",
       "3608   Action|Adventure|Comedy|Drama|Romance|Thriller  \n",
       "4681              Action|Adventure|Comedy|Crime|Drama  \n",
       "4005              Action|Adventure|Comedy|Crime|Drama  \n",
       "3526                    Action|Adventure|Comedy|Drama  \n",
       "6094            Action|Adventure|Comedy|Drama|Romance  \n",
       "9394  Action|Adventure|Comedy|Fantasy|Sci-Fi|Thriller  \n",
       "2174                Action|Adventure|Comedy|Drama|War  \n",
       "7492                Action|Adventure|Comedy|Drama|War  "
      ]
     },
     "metadata": {},
     "output_type": "display_data"
    },
    {
     "name": "stdout",
     "output_type": "stream",
     "text": [
      "\n",
      "Top 10 Recommendations for User 2:\n"
     ]
    },
    {
     "data": {
      "text/html": [
       "<div>\n",
       "<style scoped>\n",
       "    .dataframe tbody tr th:only-of-type {\n",
       "        vertical-align: middle;\n",
       "    }\n",
       "\n",
       "    .dataframe tbody tr th {\n",
       "        vertical-align: top;\n",
       "    }\n",
       "\n",
       "    .dataframe thead th {\n",
       "        text-align: right;\n",
       "    }\n",
       "</style>\n",
       "<table border=\"1\" class=\"dataframe\">\n",
       "  <thead>\n",
       "    <tr style=\"text-align: right;\">\n",
       "      <th></th>\n",
       "      <th>movieId</th>\n",
       "      <th>title</th>\n",
       "      <th>genres</th>\n",
       "    </tr>\n",
       "  </thead>\n",
       "  <tbody>\n",
       "    <tr>\n",
       "      <th>118</th>\n",
       "      <td>145</td>\n",
       "      <td>Bad Boys (1995)</td>\n",
       "      <td>Action|Comedy|Crime|Drama|Thriller</td>\n",
       "    </tr>\n",
       "    <tr>\n",
       "      <th>3657</th>\n",
       "      <td>5027</td>\n",
       "      <td>Another 48 Hrs. (1990)</td>\n",
       "      <td>Action|Comedy|Crime|Drama|Thriller</td>\n",
       "    </tr>\n",
       "    <tr>\n",
       "      <th>3989</th>\n",
       "      <td>5628</td>\n",
       "      <td>Wasabi (2001)</td>\n",
       "      <td>Action|Comedy|Crime|Drama|Thriller</td>\n",
       "    </tr>\n",
       "    <tr>\n",
       "      <th>1103</th>\n",
       "      <td>1432</td>\n",
       "      <td>Metro (1997)</td>\n",
       "      <td>Action|Comedy|Crime|Drama|Thriller</td>\n",
       "    </tr>\n",
       "    <tr>\n",
       "      <th>19</th>\n",
       "      <td>20</td>\n",
       "      <td>Money Train (1995)</td>\n",
       "      <td>Action|Comedy|Crime|Drama|Thriller</td>\n",
       "    </tr>\n",
       "    <tr>\n",
       "      <th>4693</th>\n",
       "      <td>7007</td>\n",
       "      <td>Last Boy Scout, The (1991)</td>\n",
       "      <td>Action|Comedy|Crime|Drama|Thriller</td>\n",
       "    </tr>\n",
       "    <tr>\n",
       "      <th>2452</th>\n",
       "      <td>3265</td>\n",
       "      <td>Hard-Boiled (Lat sau san taam) (1992)</td>\n",
       "      <td>Action|Crime|Drama|Thriller</td>\n",
       "    </tr>\n",
       "    <tr>\n",
       "      <th>5491</th>\n",
       "      <td>26344</td>\n",
       "      <td>French Connection II (1975)</td>\n",
       "      <td>Action|Crime|Drama|Thriller</td>\n",
       "    </tr>\n",
       "    <tr>\n",
       "      <th>9594</th>\n",
       "      <td>175585</td>\n",
       "      <td>Shot Caller (2017)</td>\n",
       "      <td>Action|Crime|Drama|Thriller</td>\n",
       "    </tr>\n",
       "    <tr>\n",
       "      <th>5895</th>\n",
       "      <td>33437</td>\n",
       "      <td>Unleashed (Danny the Dog) (2005)</td>\n",
       "      <td>Action|Crime|Drama|Thriller</td>\n",
       "    </tr>\n",
       "  </tbody>\n",
       "</table>\n",
       "</div>"
      ],
      "text/plain": [
       "      movieId                                  title  \\\n",
       "118       145                        Bad Boys (1995)   \n",
       "3657     5027                 Another 48 Hrs. (1990)   \n",
       "3989     5628                          Wasabi (2001)   \n",
       "1103     1432                           Metro (1997)   \n",
       "19         20                     Money Train (1995)   \n",
       "4693     7007             Last Boy Scout, The (1991)   \n",
       "2452     3265  Hard-Boiled (Lat sau san taam) (1992)   \n",
       "5491    26344            French Connection II (1975)   \n",
       "9594   175585                     Shot Caller (2017)   \n",
       "5895    33437       Unleashed (Danny the Dog) (2005)   \n",
       "\n",
       "                                  genres  \n",
       "118   Action|Comedy|Crime|Drama|Thriller  \n",
       "3657  Action|Comedy|Crime|Drama|Thriller  \n",
       "3989  Action|Comedy|Crime|Drama|Thriller  \n",
       "1103  Action|Comedy|Crime|Drama|Thriller  \n",
       "19    Action|Comedy|Crime|Drama|Thriller  \n",
       "4693  Action|Comedy|Crime|Drama|Thriller  \n",
       "2452         Action|Crime|Drama|Thriller  \n",
       "5491         Action|Crime|Drama|Thriller  \n",
       "9594         Action|Crime|Drama|Thriller  \n",
       "5895         Action|Crime|Drama|Thriller  "
      ]
     },
     "metadata": {},
     "output_type": "display_data"
    },
    {
     "name": "stdout",
     "output_type": "stream",
     "text": [
      "\n",
      "Top 10 Recommendations for User 3:\n"
     ]
    },
    {
     "data": {
      "text/html": [
       "<div>\n",
       "<style scoped>\n",
       "    .dataframe tbody tr th:only-of-type {\n",
       "        vertical-align: middle;\n",
       "    }\n",
       "\n",
       "    .dataframe tbody tr th {\n",
       "        vertical-align: top;\n",
       "    }\n",
       "\n",
       "    .dataframe thead th {\n",
       "        text-align: right;\n",
       "    }\n",
       "</style>\n",
       "<table border=\"1\" class=\"dataframe\">\n",
       "  <thead>\n",
       "    <tr style=\"text-align: right;\">\n",
       "      <th></th>\n",
       "      <th>movieId</th>\n",
       "      <th>title</th>\n",
       "      <th>genres</th>\n",
       "    </tr>\n",
       "  </thead>\n",
       "  <tbody>\n",
       "    <tr>\n",
       "      <th>6789</th>\n",
       "      <td>60471</td>\n",
       "      <td>Rogue (2007)</td>\n",
       "      <td>Action|Adventure|Horror|Sci-Fi|Thriller</td>\n",
       "    </tr>\n",
       "    <tr>\n",
       "      <th>7943</th>\n",
       "      <td>95796</td>\n",
       "      <td>Anaconda: The Offspring (2008)</td>\n",
       "      <td>Action|Horror|Sci-Fi|Thriller</td>\n",
       "    </tr>\n",
       "    <tr>\n",
       "      <th>4334</th>\n",
       "      <td>6333</td>\n",
       "      <td>X2: X-Men United (2003)</td>\n",
       "      <td>Action|Adventure|Sci-Fi|Thriller</td>\n",
       "    </tr>\n",
       "    <tr>\n",
       "      <th>5265</th>\n",
       "      <td>8644</td>\n",
       "      <td>I, Robot (2004)</td>\n",
       "      <td>Action|Adventure|Sci-Fi|Thriller</td>\n",
       "    </tr>\n",
       "    <tr>\n",
       "      <th>418</th>\n",
       "      <td>480</td>\n",
       "      <td>Jurassic Park (1993)</td>\n",
       "      <td>Action|Adventure|Sci-Fi|Thriller</td>\n",
       "    </tr>\n",
       "    <tr>\n",
       "      <th>1194</th>\n",
       "      <td>1591</td>\n",
       "      <td>Spawn (1997)</td>\n",
       "      <td>Action|Adventure|Sci-Fi|Thriller</td>\n",
       "    </tr>\n",
       "    <tr>\n",
       "      <th>8750</th>\n",
       "      <td>127323</td>\n",
       "      <td>Vice (2015)</td>\n",
       "      <td>Action|Adventure|Sci-Fi|Thriller</td>\n",
       "    </tr>\n",
       "    <tr>\n",
       "      <th>1766</th>\n",
       "      <td>2364</td>\n",
       "      <td>Godzilla 1985: The Legend Is Reborn (Gojira) (...</td>\n",
       "      <td>Action|Horror|Sci-Fi|Thriller</td>\n",
       "    </tr>\n",
       "    <tr>\n",
       "      <th>6577</th>\n",
       "      <td>55232</td>\n",
       "      <td>Resident Evil: Extinction (2007)</td>\n",
       "      <td>Action|Horror|Sci-Fi|Thriller</td>\n",
       "    </tr>\n",
       "    <tr>\n",
       "      <th>5949</th>\n",
       "      <td>34334</td>\n",
       "      <td>Stealth (2005)</td>\n",
       "      <td>Action|Adventure|Sci-Fi|Thriller</td>\n",
       "    </tr>\n",
       "  </tbody>\n",
       "</table>\n",
       "</div>"
      ],
      "text/plain": [
       "      movieId                                              title  \\\n",
       "6789    60471                                       Rogue (2007)   \n",
       "7943    95796                     Anaconda: The Offspring (2008)   \n",
       "4334     6333                            X2: X-Men United (2003)   \n",
       "5265     8644                                    I, Robot (2004)   \n",
       "418       480                               Jurassic Park (1993)   \n",
       "1194     1591                                       Spawn (1997)   \n",
       "8750   127323                                        Vice (2015)   \n",
       "1766     2364  Godzilla 1985: The Legend Is Reborn (Gojira) (...   \n",
       "6577    55232                   Resident Evil: Extinction (2007)   \n",
       "5949    34334                                     Stealth (2005)   \n",
       "\n",
       "                                       genres  \n",
       "6789  Action|Adventure|Horror|Sci-Fi|Thriller  \n",
       "7943            Action|Horror|Sci-Fi|Thriller  \n",
       "4334         Action|Adventure|Sci-Fi|Thriller  \n",
       "5265         Action|Adventure|Sci-Fi|Thriller  \n",
       "418          Action|Adventure|Sci-Fi|Thriller  \n",
       "1194         Action|Adventure|Sci-Fi|Thriller  \n",
       "8750         Action|Adventure|Sci-Fi|Thriller  \n",
       "1766            Action|Horror|Sci-Fi|Thriller  \n",
       "6577            Action|Horror|Sci-Fi|Thriller  \n",
       "5949         Action|Adventure|Sci-Fi|Thriller  "
      ]
     },
     "metadata": {},
     "output_type": "display_data"
    }
   ],
   "source": [
    "for user_id in [1, 2, 3]:\n",
    "    top_movie_ids = recommendations.get(user_id, [])\n",
    "    top_movies = movies[movies['movieId'].isin(top_movie_ids)][['movieId', 'title', 'genres']]\n",
    "    top_movies['rec_order'] = top_movies['movieId'].apply(lambda x: top_movie_ids.index(x))\n",
    "    top_movies = top_movies.sort_values('rec_order').drop('rec_order', axis=1)\n",
    "    \n",
    "    print(f\"\\nTop 10 Recommendations for User {user_id}:\")\n",
    "    display(top_movies)\n"
   ]
  },
  {
   "cell_type": "markdown",
   "id": "a71cea7e-a837-4ccc-aa7b-1cf81c51d013",
   "metadata": {},
   "source": [
    "## Precision at K"
   ]
  },
  {
   "cell_type": "code",
   "execution_count": 15,
   "id": "7fc76b7f",
   "metadata": {},
   "outputs": [
    {
     "name": "stdout",
     "output_type": "stream",
     "text": [
      "Average Precision at K: 0.006065573770491807\n"
     ]
    }
   ],
   "source": [
    "\n",
    "#generate a dataframe of test rows that were rated well\n",
    "good_test_ratings = test_ratings[test_ratings['rating'] >= 4.0]\n",
    "\n",
    "#calculate precision at k for each user\n",
    "k = 10\n",
    "precision_at_k = {}\n",
    "for uid, recs in recommendations.items():\n",
    "    a = 0\n",
    "    for movie in recs[:k]:\n",
    "        if movie in good_test_ratings['movieId'][good_test_ratings['userId'] == uid].values:\n",
    "            a += 1\n",
    "    precision_at_k[uid] = a / k\n",
    "\n",
    "#find average precision at k for all users\n",
    "sum_precision = 0\n",
    "for uid, recs in precision_at_k.items():\n",
    "    sum_precision += recs\n",
    "\n",
    "average_precision = sum_precision / len(recommendations)\n",
    "\n",
    "print(\"Average Precision at K:\", average_precision)"
   ]
  },
  {
   "cell_type": "markdown",
   "id": "a4aa3152-d807-40eb-868d-b39af731c69a",
   "metadata": {},
   "source": [
    "## Precision at K Curve"
   ]
  },
  {
   "cell_type": "code",
   "execution_count": 16,
   "id": "4de4fd80-6ee3-47ba-9757-406ccd663968",
   "metadata": {},
   "outputs": [
    {
     "data": {
      "image/png": "[encoded data removed]",
      "text/plain": [
       "<Figure size 640x480 with 1 Axes>"
      ]
     },
     "metadata": {},
     "output_type": "display_data"
    }
   ],
   "source": [
    "#graph average precision at k with k ranging from 1 to 20\n",
    "\n",
    "import matplotlib.pyplot as plt\n",
    "import numpy as np\n",
    "import seaborn as sns\n",
    "\n",
    "#using trained moddel generate top k recommendations for each user and then calculate average precision at k\n",
    "#build a dictionary of k values and their corresponding average precision at k\n",
    "\n",
    "k_values = {}\n",
    "\n",
    "#generate top 20 recommendations for each user\n",
    "recommendations = {}\n",
    "\n",
    "k = 20\n",
    "\n",
    "for uid, uvec in user_profiles_norm.items():\n",
    "    # movies user has already rated (train)\n",
    "    seen = set(train_ratings[train_ratings['userId'] == uid]['movieId'])\n",
    "    \n",
    "    # candidate pool = all movies minus seen\n",
    "    candidates = genre_matrix.drop(index=seen, errors='ignore')\n",
    "    \n",
    "    # compute cosine similarity\n",
    "    sims = cosine_similarity(uvec.reshape(1, -1), candidates.values)[0]\n",
    "    \n",
    "    # grab the Top‑K movieIds\n",
    "    top_k_ids = candidates.index[np.argsort(sims)[-K:][::-1]]\n",
    "    recommendations[uid] = list(top_k_ids)\n",
    "\n",
    "#calculate the average precision at k ranging from 1 to 20 and use to fill k_values dictionary\n",
    "k = 1\n",
    "for k in range(1, 21):\n",
    "\n",
    "    precision_at_k = {}\n",
    "    for uid, recs in recommendations.items():\n",
    "        a = 0\n",
    "        for movie in recs[:k]:\n",
    "            if movie in good_test_ratings['movieId'][good_test_ratings['userId'] == uid].values:\n",
    "                a += 1\n",
    "        precision_at_k[uid] = a / k\n",
    "\n",
    "        #find average precision at k for all users\n",
    "    sum_precision = 0\n",
    "    for uid, recs in precision_at_k.items():\n",
    "        sum_precision += recs\n",
    "\n",
    "    average_precision = sum_precision / len(recommendations)\n",
    "    k_values[k] = average_precision\n",
    "\n",
    "\n",
    "#plot k_values\n",
    "plt.plot(list(k_values.keys()), list(k_values.values()))\n",
    "plt.xlabel('K (number of recommendations)')\n",
    "plt.ylabel('Average Precision at K')\n",
    "plt.title('Average Precision at K vs K')\n",
    "plt.xticks(list(k_values.keys()))\n",
    "plt.show()"
   ]
  },
  {
   "cell_type": "markdown",
   "id": "bc4e1658",
   "metadata": {},
   "source": [
    "## Confusion Matrix"
   ]
  },
  {
   "cell_type": "code",
   "execution_count": 17,
   "id": "85dcaa50",
   "metadata": {},
   "outputs": [],
   "source": [
    "import matplotlib.pyplot as plt"
   ]
  },
  {
   "cell_type": "code",
   "execution_count": 18,
   "id": "f0e62f08",
   "metadata": {},
   "outputs": [],
   "source": [
    "# Calculate hits and misses\n",
    "hits = 0  # True Positives\n",
    "misses = 0  # False Positives\n",
    "not_recommended_but_liked = 0  # False Negatives"
   ]
  },
  {
   "cell_type": "code",
   "execution_count": 19,
   "id": "a1d4417e",
   "metadata": {},
   "outputs": [],
   "source": [
    "# For each user\n",
    "for uid in recommendations:\n",
    "    # Get movies this user liked in test set\n",
    "    liked_test_movies = set(good_test_ratings[good_test_ratings['userId'] == uid]['movieId'])\n",
    "    \n",
    "    # Get recommendations for this user\n",
    "    recommended_movies = recommendations[uid][:k]\n",
    "    \n",
    "    # Count hits and misses\n",
    "    for movie_id in recommended_movies:\n",
    "        if movie_id in liked_test_movies:\n",
    "            hits += 1  \n",
    "        else:\n",
    "            misses += 1 \n",
    "    \n",
    "    # Count movies that were liked but not recommended\n",
    "    for movie_id in liked_test_movies:\n",
    "        if movie_id not in recommended_movies:\n",
    "            not_recommended_but_liked += 1  "
   ]
  },
  {
   "cell_type": "code",
   "execution_count": 20,
   "id": "768de5be",
   "metadata": {},
   "outputs": [
    {
     "name": "stdout",
     "output_type": "stream",
     "text": [
      "Precision: 0.0061\n",
      "Total recommendations: 6100\n",
      "Total hits: 37\n",
      "Total misses: 6063\n",
      "Not recommended but liked: 9801\n"
     ]
    }
   ],
   "source": [
    "# Create the confusion matrix array\n",
    "confusion_mat = np.array([\n",
    "    [hits, misses],\n",
    "    [not_recommended_but_liked, 0]  # We don't track true negatives\n",
    "])\n",
    "# Calculate performance metrics\n",
    "total_recommendations = hits + misses\n",
    "precision = hits / total_recommendations if total_recommendations > 0 else 0\n",
    "# Metrics\n",
    "print(f\"Precision: {precision:.4f}\")\n",
    "print(f\"Total recommendations: {total_recommendations}\")\n",
    "print(f\"Total hits: {hits}\")\n",
    "print(f\"Total misses: {misses}\")\n",
    "print(f\"Not recommended but liked: {not_recommended_but_liked}\")"
   ]
  },
  {
   "cell_type": "code",
   "execution_count": 21,
   "id": "c0aa8782",
   "metadata": {},
   "outputs": [
    {
     "name": "stdout",
     "output_type": "stream",
     "text": [
      "Total recommendations evaluated: 6100\n",
      "Hits: 37 (0.61%)\n",
      "Misses: 6063 (99.39%)\n"
     ]
    }
   ],
   "source": [
    "#Simple stats\n",
    "total = hits + misses\n",
    "print(f\"Total recommendations evaluated: {total}\")\n",
    "print(f\"Hits: {hits} ({hits/total:.2%})\")\n",
    "print(f\"Misses: {misses} ({misses/total:.2%})\")"
   ]
  },
  {
   "cell_type": "code",
   "execution_count": 22,
   "id": "dc575e09",
   "metadata": {},
   "outputs": [
    {
     "data": {
      "image/png": "[encoded data removed]",
      "text/plain": [
       "<Figure size 640x480 with 1 Axes>"
      ]
     },
     "metadata": {},
     "output_type": "display_data"
    }
   ],
   "source": [
    "#Plotting\n",
    "ax = plt.gca()\n",
    "ax.set_xticks([0, 1])\n",
    "ax.set_yticks([0, 1])\n",
    "ax.set_xticklabels(['Liked', 'Not Liked'])\n",
    "ax.set_yticklabels(['Recommended', 'Not Recommended'])\n",
    "ax.set_xlabel('Predicted')\n",
    "ax.set_ylabel('Actual')\n",
    "ax.set_title('Movie Recommender Confusion Matrix')\n",
    "\n",
    "#Plot the data\n",
    "im = plt.imshow(confusion_mat, cmap='Blues')\n",
    "\n",
    "#Text annotations\n",
    "for i in range(2):\n",
    "    for j in range(2):\n",
    "        plt.text(j, i, str(confusion_mat[i, j]), \n",
    "                 ha=\"center\", va=\"center\", color=\"black\", fontsize=14)"
   ]
  },
  {
   "cell_type": "markdown",
   "id": "f09f2e13",
   "metadata": {},
   "source": [
    "## Storytelling and Conclusion"
   ]
  },
  {
   "cell_type": "markdown",
   "id": "b924760e",
   "metadata": {},
   "source": [
    "For our project, we created a movie recommender system with the goal of helping viewers choose a movie based on their previous rating history. \n",
    "\n",
    "First, in the pre-processing stage we made sure the data set contained no null or missing values, checked if all the movieIDs referenced in the ratings file actually existed in the movies file, and converted the UNIX timestamps into a readable data/time format. \n",
    "\n",
    "Second, we created code to analyze user preferences based on movies they’ve rated highly to create personalized recommendations based on genre similarities. In order to do that, we split the user’s ratings into training and testing sets where we use known data to predict unknown preferences, after that we filtered high ratings to keep only movies with a rate of 4 stars or higher, assuming that this reflects a user’s genuine preferences, and created a full list of all unique genres found in the dataset. By using user preference modeling in this step, we are able to create a genre performance vector for each user which finds all of their highly-rated movies and counts how many of those fall into each genre. \n",
    "\n",
    "For a better understanding of our preference analysis code, we’ve provided a user example in which we show User 1’s top preferred genres based on their ratings. You can see that User 1 enjoys action movies the most and thriller movies the least. \n",
    "\n",
    "Third, we created a method to recommend the top 10 movies to each user by comparing their genre preference vector with the genres they haven’t seen yet, using cosine similarity. We started by using one-hot encoding that converts each movie’s genre list into a binary vector which gives the value 1 if the movie belongs to the genre or the value 0 otherwise. Next, we normalized the preference vectors to unit length to ensure that cosine similarity was able to measure the angle between the vectors correctly. This ensures that users who are heavy raters compared to those that are light raters are treated fairly. Following this, we find movies that users haven’t rated yet by calculating the cosine similarity between the user’s genre preference vector and each unseen movie’s genre vector. This results in picking the top 10 most similar movie recommendations for each user. \n",
    "\n",
    "Going back to User 1, we’ve used a horizontal bar chart showing the cosine similarity scores for their top 10 recommended movies which visually highlights how well each movie matches their original preferences. Following the visualization and table for user 1, we have provided two other top 10 recommendation tables for User 2 and User 3, organizing their recommendations by movieId, title, and genres their recommended movie falls under. \n",
    "Fourth, we used the Precision at K method to evaluate the quality of movie recommendations which shows the precision changes with different values of K; K being the number of recommendations shown to each user. We start with the initial evaluation with K equaling 10 and filter out the dataset to keep only the movies rated 4 stars of higher. For each user, we compare the top 10 recommended movies with the user’s actually liked movies in the test set. By taking the number of good recommendations and dividing by are initial K value, we get the average precision across all users. In this case, our average precision at K is 0.00606…, which means that on average fewer than 1 out of 10 recommendations are actually liked by the User. This shows that there is room for improvement in our recommender system.  \n",
    "\n",
    "Following our initial Precision at K, we provide a graph that visualizes how the quality of movie recommendations changes as you increase the number of recommended movies per user, through using the Average Precision at K metric. The x-axis shows the number of recommendations given to each user while the y-axis shows the average precision at K. According to the graph, you can see that the highest precision at K starts at K=1, and then the average precision at K fluctuates as K increases. This shows that by recommending more items to users it’s harder to keep all of them relevant and exactly to the users tastes. \n",
    "\n",
    "Finally, we use a confusion matrix to evaluate the performance of the movie recommendation system. Starting off, we create the listed key terms: True Positives (hits), False Positives (misses), and False Negatives. True Positives are movies that were recommended and liked, False Positives are movies that were recommended but not liked, and False Negatives and movies that were liked but not recommended. Following our definitions, we calculate the precision through hits divided by hits plus misses. This concluded that our precision equaled 0.0061, total recommendations were 6,100, total hits were 37, total misses were 6,063, and not recommended but liked movies were 9,801. You can see these results visualized in our confusion matrix graph below our calculation code.\n",
    "\n",
    "In conclusion, our movie recommendation system has a solid foundation when accurately capturing user preferences but could use improvement when creating effective predictions. Our system successfully analyzes preference through genre based viewing patterns and demonstrates a clear ability to identify what users enjoy watching.      \n"
   ]
  },
  {
   "cell_type": "markdown",
   "id": "fb862a16",
   "metadata": {},
   "source": [
    "## Impact Section\n",
    "\n",
    "When building recommender systems, the most obvious potential harm is the possibility of building filter bubbles. Since our recommender system works by recommending content with similar genres to what the user has already rated highly, it can isolate them from other genres that they have not explored. In the context of a movie recommender system using our dataset, this may not have a massive negative impact on society, however, if genres/tags were more detailed, such as including information on the political leanings of a movie, it could push users to political extremism and cause polarization."
   ]
  },
  {
   "cell_type": "markdown",
   "id": "f00a18c1",
   "metadata": {},
   "source": [
    "## References\n",
    "\n",
    "[GroupLens - Movie Lens Small Dataset](https://grouplens.org/datasets/movielens/latest/)\n",
    "\n",
    "[GitHub 3162 Final Project](https://github.com/YveSSo/3162-FinalProject)"
   ]
  }
 ],
 "metadata": {
  "kernelspec": {
   "display_name": "Python 3",
   "language": "python",
   "name": "python3"
  },
  "language_info": {
   "codemirror_mode": {
    "name": "ipython",
    "version": 3
   },
   "file_extension": ".py",
   "mimetype": "text/x-python",
   "name": "python",
   "nbconvert_exporter": "python",
   "pygments_lexer": "ipython3",
   "version": "3.12.7"
  }
 },
 "nbformat": 4,
 "nbformat_minor": 5
}
