{
 "cells": [
  {
   "cell_type": "markdown",
   "id": "ddf75e44",
   "metadata": {},
   "source": [
    "## 🎥🍿🍬 Movie Recommender System 🍬🍿🎥\n",
    "\n",
    "#### Group 2: Anish Adimulam, Saad Ahmad, Sydney Johnson, Yvette Soto, Trinity Thao, Saye Xavier\n",
    "\n",
    "In this final project, we create a recommender system that showcases movies to viewers based on their rating history. The movies shown will be based on the type of rating(s) the user has given per genre of movie they watched. The goal of this final project is to showcase the skills we have learned throughout the semester to create a usable product with our dataset.\n",
    "\n",
    "Our dataset is the __Movielens Latest Small__ dataset. The dataset can be found at: https://grouplens.org/datasets/movielens/latest/\n",
    "\n",
    "This dataset consists of four _csv_ files:\n",
    "- __movies.csv__\n",
    "- __ratings.csv__\n",
    "- __tags.csv__\n",
    "- __links.csv__\n",
    "\n",
    "_In our project, we will only use the __movies.csv__ and __ratings.csv__ files to build our system._\n",
    "\n",
    "The __movies.csv__ consists of the following:\n",
    "- `movieID`\n",
    "- `title`\n",
    "- `genres`\n",
    "\n",
    "The __ratings.csv__ consists of the following:\n",
    "- `userID`\n",
    "- `movieID`\n",
    "- `rating`\n",
    "- `timestamp`\n",
    "\n",
    "\n",
    "Our methodology for this project is as follows:\n",
    "- Perform __Pre-processing__\n",
    "    - Check for missing values\n",
    "    - Make sure IDs match between the movies.csv file and the ratings.csv file\n",
    "\n",
    "- Conduct __Preference Analysis__\n",
    "    - Identify movies with 4 stars or higher from the dataset and extract their genres\n",
    "    - Count amount of times each genre shows up in a user's list\n",
    "    - Create a preference vector based on their rating counts\n",
    "\n",
    "- Finalize with __Cosine Similarity__\n",
    "    - Normalize preference vector\n",
    "    - Create a genre vector representing unwatched movies' genres (one-hot encoding will be used to represent genres)\n",
    "    - Calculate cosine similarity between user's preference vector and each unwatched movie's genre vector\n",
    "    - Store similarity scores for each unwatched movie and sort the movies in descending order based on score\n",
    "    - Select the top K highest-ranked movies as the user's personalized recommendations"
   ]
  },
  {
   "cell_type": "code",
   "execution_count": 3,
   "id": "f80cba61-5ddf-406a-8b70-441c5fe4637f",
   "metadata": {},
   "outputs": [],
   "source": [
    "#Imports\n",
    "import pandas as pd"
   ]
  },
  {
   "cell_type": "code",
   "execution_count": 4,
   "id": "0d4fc750-4680-417d-8406-112aa31a9f93",
   "metadata": {},
   "outputs": [],
   "source": [
    "#Load the data files\n",
    "movies = pd.read_csv('movies.csv')\n",
    "ratings = pd.read_csv('ratings.csv')"
   ]
  },
  {
   "cell_type": "markdown",
   "id": "a3fa7f86-ea4c-4185-88a8-e2a22aa1c876",
   "metadata": {},
   "source": [
    "### Pre-Processing"
   ]
  },
  {
   "cell_type": "code",
   "execution_count": 5,
   "id": "94a0bf49-69d9-4e65-bc5a-4b0ee42089b1",
   "metadata": {},
   "outputs": [
    {
     "name": "stdout",
     "output_type": "stream",
     "text": [
      "Checking for missing data:\n",
      "Movies missing data: movieId    0\n",
      "title      0\n",
      "genres     0\n",
      "dtype: int64\n",
      "Ratings missing data: userId       0\n",
      "movieId      0\n",
      "rating       0\n",
      "timestamp    0\n",
      "dtype: int64\n"
     ]
    }
   ],
   "source": [
    "#Check if any data is missing\n",
    "movies_missing = movies.isnull().sum()\n",
    "ratings_missing = ratings.isnull().sum()\n",
    "print(\"Checking for missing data:\")\n",
    "print(\"Movies missing data:\", movies_missing)\n",
    "print(\"Ratings missing data:\", ratings_missing)"
   ]
  },
  {
   "cell_type": "code",
   "execution_count": 6,
   "id": "2df89935-e9b2-4d0a-9f0a-1bb94f5c29e7",
   "metadata": {},
   "outputs": [
    {
     "name": "stdout",
     "output_type": "stream",
     "text": [
      "All movie IDs match!\n"
     ]
    }
   ],
   "source": [
    "#Checking if movies in ratings exist in movies file\n",
    "rating_movie_ids = set(ratings['movieId'])\n",
    "movie_ids = set(movies['movieId'])\n",
    "movies_only_in_ratings = rating_movie_ids - movie_ids\n",
    "if len(movies_only_in_ratings) == 0:\n",
    "    print(\"All movie IDs match!\")\n",
    "else:\n",
    "    print(\"Found\", len(movies_only_in_ratings), \"movies in ratings that don't exist in movies.csv\")"
   ]
  },
  {
   "cell_type": "code",
   "execution_count": 7,
   "id": "a24a79b5-52ff-43ad-a178-20639377ec1d",
   "metadata": {},
   "outputs": [],
   "source": [
    "#Convert timestamp to date\n",
    "from datetime import datetime\n",
    "ratings['date'] = ratings['timestamp'].apply(lambda x: datetime.fromtimestamp(x))"
   ]
  },
  {
   "cell_type": "markdown",
   "id": "463a0813-357d-4a60-97c1-3a74a843e926",
   "metadata": {},
   "source": [
    "### Preference Analysis"
   ]
  },
  {
   "cell_type": "code",
   "execution_count": 8,
   "id": "69a1818e-87e1-4c0f-9591-e1b17f267490",
   "metadata": {},
   "outputs": [
    {
     "name": "stdout",
     "output_type": "stream",
     "text": [
      "Number of 4+ star ratings: 48580\n"
     ]
    }
   ],
   "source": [
    "#Find movies rated 4 stars or higher\n",
    "good_ratings = ratings[ratings['rating'] >= 4.0]\n",
    "print(\"Number of 4+ star ratings:\", len(good_ratings))"
   ]
  },
  {
   "cell_type": "code",
   "execution_count": 9,
   "id": "664a0b09-bf0d-4bc0-854c-5ac6c6959881",
   "metadata": {},
   "outputs": [],
   "source": [
    "#Split genres into lists\n",
    "movies['genre_list'] = movies['genres'].str.split('|')"
   ]
  },
  {
   "cell_type": "code",
   "execution_count": 10,
   "id": "38635c16-7482-4761-8e1a-57cfdaa54d67",
   "metadata": {},
   "outputs": [
    {
     "name": "stdout",
     "output_type": "stream",
     "text": [
      "Found 20 unique genres\n"
     ]
    }
   ],
   "source": [
    "#Get all unique genres\n",
    "all_genres = []\n",
    "for index, row in movies.iterrows():\n",
    "    genres = row['genre_list']\n",
    "    for genre in genres:\n",
    "        if genre not in all_genres:\n",
    "            all_genres.append(genre)\n",
    "all_genres.sort()\n",
    "print(\"Found\", len(all_genres), \"unique genres\")"
   ]
  },
  {
   "cell_type": "code",
   "execution_count": 11,
   "id": "24ac1878-2d7c-4a51-a2f8-6012853c85f2",
   "metadata": {},
   "outputs": [],
   "source": [
    "# Create preference vectors for each user\n",
    "user_preferences = {}\n",
    "unique_users = ratings['userId'].unique()\n",
    "\n",
    "for user in unique_users:\n",
    "    # Get their highly rated movies\n",
    "    user_good_ratings = good_ratings[good_ratings['userId'] == user]\n",
    "    \n",
    "    # Count each genre\n",
    "    genre_counts = {}\n",
    "    for genre in all_genres:\n",
    "        genre_counts[genre] = 0\n",
    "    \n",
    "    # For each highly rated movie, add to genre counts\n",
    "    for index, rating_row in user_good_ratings.iterrows():\n",
    "        movie_id = rating_row['movieId']\n",
    "        movie_row = movies[movies['movieId'] == movie_id]\n",
    "        \n",
    "        if len(movie_row) > 0:\n",
    "            # Instead of .iloc[0], we'll convert to a list and take the first item\n",
    "            movie_genres = list(movie_row['genre_list'])[0]\n",
    "            for genre in movie_genres:\n",
    "                genre_counts[genre] = genre_counts[genre] + 1\n",
    "\n",
    "    # Creating the vector\n",
    "    vector = []\n",
    "    for genre in all_genres:\n",
    "        vector.append(genre_counts[genre])\n",
    "    \n",
    "    user_preferences[user] = vector"
   ]
  },
  {
   "cell_type": "markdown",
   "id": "f111e781-6cc4-4ef2-8915-5f4b712586c3",
   "metadata": {},
   "source": [
    "### User 1 example (can remove) just put this here to make sure it worked."
   ]
  },
  {
   "cell_type": "code",
   "execution_count": 12,
   "id": "77cbae6b-381f-4581-be23-597e0b0e776c",
   "metadata": {},
   "outputs": [
    {
     "name": "stdout",
     "output_type": "stream",
     "text": [
      "\n",
      "Example - User 1 preferences:\n",
      "----------------------------------------\n",
      "Action: 76\n",
      "Adventure: 74\n",
      "Animation: 27\n",
      "Children: 37\n",
      "Comedy: 70\n",
      "Crime: 39\n",
      "Drama: 64\n",
      "Fantasy: 41\n",
      "Film-Noir: 1\n",
      "Horror: 9\n",
      "Musical: 20\n",
      "Mystery: 13\n",
      "Romance: 24\n",
      "Sci-Fi: 32\n",
      "Thriller: 43\n",
      "War: 20\n",
      "Western: 6\n",
      "\n",
      "User 1's top preferred genres:\n",
      "Action: 76 movies\n",
      "Adventure: 74 movies\n",
      "Comedy: 70 movies\n",
      "Drama: 64 movies\n",
      "Thriller: 43 movies\n"
     ]
    }
   ],
   "source": [
    "# Show user preferences\n",
    "print(\"\\nExample - User 1 preferences:\")\n",
    "print(\"-\" * 40)\n",
    "for i, genre in enumerate(all_genres):\n",
    "    count = user_preferences[1][i]\n",
    "    if count > 0:  \n",
    "        print(f\"{genre}: {count}\")\n",
    "\n",
    "# Show top 5 preferred genres\n",
    "print(\"\\nUser 1's top preferred genres:\")\n",
    "user1_vector = user_preferences[1]\n",
    "genre_counts = list(zip(all_genres, user1_vector))\n",
    "sorted_genres = sorted(genre_counts, key=lambda x: x[1], reverse=True)\n",
    "\n",
    "for genre, count in sorted_genres[:5]:\n",
    "    if count > 0:\n",
    "        print(f\"{genre}: {count} movies\")"
   ]
  },
  {
   "cell_type": "code",
   "execution_count": 13,
   "id": "dc5b9c93-8566-4d57-8129-8d659cabb262",
   "metadata": {},
   "outputs": [
    {
     "name": "stdout",
     "output_type": "stream",
     "text": [
      "User 1 recommendations: [117646, 55116, 6990, 5657, 4956, 4818, 42015, 164226, 2890, 82765]\n"
     ]
    }
   ],
   "source": [
    "from sklearn.preprocessing import MultiLabelBinarizer\n",
    "from sklearn.metrics.pairwise import cosine_similarity\n",
    "from numpy.linalg import norm\n",
    "import numpy as np\n",
    "\n",
    "# 1. One‑hot encode all movies by genre\n",
    "mlb = MultiLabelBinarizer(classes=all_genres)\n",
    "genre_matrix = pd.DataFrame(\n",
    "    mlb.fit_transform(movies['genre_list']),\n",
    "    index=movies['movieId'],\n",
    "    columns=all_genres\n",
    ")\n",
    "\n",
    "# 2. Normalize each user’s preference vector\n",
    "user_profiles_norm = {}\n",
    "for uid, vec in user_preferences.items():\n",
    "    v = np.array(vec, dtype=float)\n",
    "    n = norm(v)\n",
    "    user_profiles_norm[uid] = (v / n) if n > 0 else v\n",
    "\n",
    "# 3. For each user, score all unseen movies and pick Top‑K\n",
    "K = 10\n",
    "recommendations = {}\n",
    "\n",
    "for uid, uvec in user_profiles_norm.items():\n",
    "    # movies user has already rated (train+test)\n",
    "    seen = set(ratings[ratings['userId'] == uid]['movieId'])\n",
    "    \n",
    "    # candidate pool = all movies minus seen\n",
    "    candidates = genre_matrix.drop(index=seen, errors='ignore')\n",
    "    \n",
    "    # compute cosine similarity\n",
    "    sims = cosine_similarity(uvec.reshape(1, -1), candidates.values)[0]\n",
    "    \n",
    "    # grab the Top‑K movieIds\n",
    "    top_k_ids = candidates.index[np.argsort(sims)[-K:][::-1]]\n",
    "    recommendations[uid] = list(top_k_ids)\n",
    "\n",
    "# 4. Peeking at a user's top 10 films, the first being the highest, as a test.\n",
    "print(\"User 1 recommendations:\", recommendations.get(1, [])[:K])\n"
   ]
  }
 ],
 "metadata": {
  "kernelspec": {
   "display_name": "base",
   "language": "python",
   "name": "python3"
  },
  "language_info": {
   "codemirror_mode": {
    "name": "ipython",
    "version": 3
   },
   "file_extension": ".py",
   "mimetype": "text/x-python",
   "name": "python",
   "nbconvert_exporter": "python",
   "pygments_lexer": "ipython3",
   "version": "3.12.7"
  }
 },
 "nbformat": 4,
 "nbformat_minor": 5
}
