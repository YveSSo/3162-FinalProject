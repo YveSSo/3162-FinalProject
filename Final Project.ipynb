{
 "cells": [
  {
   "cell_type": "markdown",
   "id": "ddf75e44",
   "metadata": {},
   "source": [
    "## 🎥🍿🍬 Movie Recommender System 🍬🍿🎥\n",
    "\n",
    "#### Group 2: Anish Adimulam, Saad Ahmad, Sydney Johnson, Yvette Soto, Trinity Thao, Saye Xavier\n",
    "\n",
    "In this final project, we create a recommender system that showcases movies to viewers based on their rating history. The movies shown will be based on the type of rating(s) the user has given per genre of movie they watched. The goal of this final project is to showcase the skills we have learned throughout the semester to create a usable product with our dataset.\n",
    "\n",
    "Our dataset is the __Movielens Latest Small__ dataset. The dataset can be found at: https://grouplens.org/datasets/movielens/latest/\n",
    "\n",
    "This dataset consists of four _csv_ files:\n",
    "- movies.csv\n",
    "- ratings.csv\n",
    "- tags.csv\n",
    "- links.csv\n",
    "\n",
    "_In our project, we will only use the __movies.csv__ and __ratings.csv__ files to build our system._\n",
    "\n",
    "The __movies.csv__ consists of the following:\n",
    "- `movieID`\n",
    "- `title`\n",
    "- `genres`\n",
    "\n",
    "The __ratings.csv__ consists of the following:\n",
    "- `userID`\n",
    "- `movieID`\n",
    "- `rating`\n",
    "- `timestamp`\n",
    "\n",
    "\n",
    "Our methodology for this project is as follows:\n",
    "- Perform __Pre-processing__\n",
    "<br>\n",
    "    - Check for missing values\n",
    "    - Make sure IDs match between the movies.csv file and the ratings.csv file\n",
    "<br>\n",
    "- Conduct __Preference Analysis__\n",
    "<br>\n",
    "    - Identify movies with 4 stars or higher from the dataset and extract their genres\n",
    "    - Count amount of times each genre shows up in a user's list\n",
    "    - Create a preference vector based on their rating counts\n",
    "<br>\n",
    "- Finalize with __Cosine Similarity__\n",
    "<br>\n",
    "    - Normalize preference vector\n",
    "    - Create a genre vector representing unwatched movies' genres (one-hot encoding will be used to represent genres)\n",
    "    - Calculate cosine similarity between user's preference vector and each unwatched movie's genre vector\n",
    "    - Store similarity scores for each unwatched movie and sort the movies in descending order based on score\n",
    "    - Select the top K highest-ranked movies as the user's personalized recommendations"
   ]
  },
  {
   "cell_type": "code",
   "execution_count": 1,
   "id": "f80cba61-5ddf-406a-8b70-441c5fe4637f",
   "metadata": {},
   "outputs": [],
   "source": [
    "#Imports\n",
    "import pandas as pd"
   ]
  },
  {
   "cell_type": "code",
   "execution_count": 2,
   "id": "0d4fc750-4680-417d-8406-112aa31a9f93",
   "metadata": {},
   "outputs": [],
   "source": [
    "#Load the data files\n",
    "movies = pd.read_csv('movies.csv')\n",
    "ratings = pd.read_csv('ratings.csv')"
   ]
  },
  {
   "cell_type": "markdown",
   "id": "a3fa7f86-ea4c-4185-88a8-e2a22aa1c876",
   "metadata": {},
   "source": [
    "### Pre-Processing"
   ]
  },
  {
   "cell_type": "code",
   "execution_count": 3,
   "id": "94a0bf49-69d9-4e65-bc5a-4b0ee42089b1",
   "metadata": {},
   "outputs": [
    {
     "name": "stdout",
     "output_type": "stream",
     "text": [
      "Checking for missing data:\n",
      "Movies missing data: movieId    0\n",
      "title      0\n",
      "genres     0\n",
      "dtype: int64\n",
      "Ratings missing data: userId       0\n",
      "movieId      0\n",
      "rating       0\n",
      "timestamp    0\n",
      "dtype: int64\n"
     ]
    }
   ],
   "source": [
    "#Check if any data is missing\n",
    "movies_missing = movies.isnull().sum()\n",
    "ratings_missing = ratings.isnull().sum()\n",
    "print(\"Checking for missing data:\")\n",
    "print(\"Movies missing data:\", movies_missing)\n",
    "print(\"Ratings missing data:\", ratings_missing)"
   ]
  },
  {
   "cell_type": "code",
   "execution_count": 4,
   "id": "2df89935-e9b2-4d0a-9f0a-1bb94f5c29e7",
   "metadata": {},
   "outputs": [
    {
     "name": "stdout",
     "output_type": "stream",
     "text": [
      "All movie IDs match!\n"
     ]
    }
   ],
   "source": [
    "#Checking if movies in ratings exist in movies file\n",
    "rating_movie_ids = set(ratings['movieId'])\n",
    "movie_ids = set(movies['movieId'])\n",
    "movies_only_in_ratings = rating_movie_ids - movie_ids\n",
    "if len(movies_only_in_ratings) == 0:\n",
    "    print(\"All movie IDs match!\")\n",
    "else:\n",
    "    print(\"Found\", len(movies_only_in_ratings), \"movies in ratings that don't exist in movies.csv\")"
   ]
  },
  {
   "cell_type": "code",
   "execution_count": 5,
   "id": "a24a79b5-52ff-43ad-a178-20639377ec1d",
   "metadata": {},
   "outputs": [],
   "source": [
    "#Convert timestamp to date\n",
    "from datetime import datetime\n",
    "ratings['date'] = ratings['timestamp'].apply(lambda x: datetime.fromtimestamp(x))"
   ]
  },
  {
   "cell_type": "markdown",
   "id": "463a0813-357d-4a60-97c1-3a74a843e926",
   "metadata": {},
   "source": [
    "### Preference Analysis"
   ]
  },
  {
   "cell_type": "code",
   "execution_count": 6,
   "id": "1a6dd77b-c62b-42d6-9b41-d355ea40e185",
   "metadata": {},
   "outputs": [],
   "source": [
    "# Split ratings into train and test\n",
    "from sklearn.model_selection import train_test_split\n",
    "\n",
    "# Initialize empty lists to collect the dataframes\n",
    "train_dfs = []\n",
    "test_dfs = []\n",
    "\n",
    "# For each user, split their ratings into train (80%) and test (20%)\n",
    "for user in ratings['userId'].unique():\n",
    "    user_ratings = ratings[ratings['userId'] == user]\n",
    "    user_train, user_test = train_test_split(user_ratings, test_size=0.2, random_state=42)\n",
    "    train_dfs.append(user_train)\n",
    "    test_dfs.append(user_test)\n",
    "\n",
    "# Concatenate all the dataframes at once\n",
    "train_ratings = pd.concat(train_dfs, ignore_index=True)\n",
    "test_ratings = pd.concat(test_dfs, ignore_index=True)"
   ]
  },
  {
   "cell_type": "code",
   "execution_count": 7,
   "id": "69a1818e-87e1-4c0f-9591-e1b17f267490",
   "metadata": {},
   "outputs": [
    {
     "name": "stdout",
     "output_type": "stream",
     "text": [
      "Number of 4+ star ratings: 38742\n"
     ]
    }
   ],
   "source": [
    "#Find movies rated 4 stars or higher\n",
    "good_ratings = train_ratings[train_ratings['rating'] >= 4.0]\n",
    "print(\"Number of 4+ star ratings:\", len(good_ratings))"
   ]
  },
  {
   "cell_type": "code",
   "execution_count": 8,
   "id": "664a0b09-bf0d-4bc0-854c-5ac6c6959881",
   "metadata": {},
   "outputs": [],
   "source": [
    "#Split genres into lists\n",
    "movies['genre_list'] = movies['genres'].str.split('|')"
   ]
  },
  {
   "cell_type": "code",
   "execution_count": 9,
   "id": "38635c16-7482-4761-8e1a-57cfdaa54d67",
   "metadata": {},
   "outputs": [
    {
     "name": "stdout",
     "output_type": "stream",
     "text": [
      "Found 20 unique genres\n"
     ]
    }
   ],
   "source": [
    "#Get all unique genres\n",
    "all_genres = []\n",
    "for index, row in movies.iterrows():\n",
    "    genres = row['genre_list']\n",
    "    for genre in genres:\n",
    "        if genre not in all_genres:\n",
    "            all_genres.append(genre)\n",
    "all_genres.sort()\n",
    "print(\"Found\", len(all_genres), \"unique genres\")"
   ]
  },
  {
   "cell_type": "code",
   "execution_count": 10,
   "id": "24ac1878-2d7c-4a51-a2f8-6012853c85f2",
   "metadata": {},
   "outputs": [],
   "source": [
    "# Create preference vectors for each user\n",
    "user_preferences = {}\n",
    "unique_users = ratings['userId'].unique()\n",
    "\n",
    "for user in unique_users:\n",
    "    # Get their highly rated movies\n",
    "    user_good_ratings = good_ratings[good_ratings['userId'] == user]\n",
    "    \n",
    "    # Count each genre\n",
    "    genre_counts = {}\n",
    "    for genre in all_genres:\n",
    "        genre_counts[genre] = 0\n",
    "    \n",
    "    # For each highly rated movie, add to genre counts\n",
    "    for index, rating_row in user_good_ratings.iterrows():\n",
    "        movie_id = rating_row['movieId']\n",
    "        movie_row = movies[movies['movieId'] == movie_id]\n",
    "        \n",
    "        if len(movie_row) > 0:\n",
    "            # Instead of .iloc[0], we'll convert to a list and take the first item\n",
    "            movie_genres = list(movie_row['genre_list'])[0]\n",
    "            for genre in movie_genres:\n",
    "                genre_counts[genre] = genre_counts[genre] + 1\n",
    "\n",
    "    # Creating the vector\n",
    "    vector = []\n",
    "    for genre in all_genres:\n",
    "        vector.append(genre_counts[genre])\n",
    "    \n",
    "    user_preferences[user] = vector"
   ]
  },
  {
   "cell_type": "markdown",
   "id": "f111e781-6cc4-4ef2-8915-5f4b712586c3",
   "metadata": {},
   "source": [
    "### User 1 example (can remove) just put this here to make sure it worked."
   ]
  },
  {
   "cell_type": "code",
   "execution_count": 11,
   "id": "77cbae6b-381f-4581-be23-597e0b0e776c",
   "metadata": {},
   "outputs": [
    {
     "name": "stdout",
     "output_type": "stream",
     "text": [
      "\n",
      "Example - User 1 preferences:\n",
      "----------------------------------------\n",
      "Action: 62\n",
      "Adventure: 57\n",
      "Animation: 22\n",
      "Children: 29\n",
      "Comedy: 53\n",
      "Crime: 28\n",
      "Drama: 49\n",
      "Fantasy: 31\n",
      "Film-Noir: 1\n",
      "Horror: 7\n",
      "Musical: 16\n",
      "Mystery: 9\n",
      "Romance: 19\n",
      "Sci-Fi: 25\n",
      "Thriller: 34\n",
      "War: 16\n",
      "Western: 5\n",
      "\n",
      "User 1's top preferred genres:\n",
      "Action: 62 movies\n",
      "Adventure: 57 movies\n",
      "Comedy: 53 movies\n",
      "Drama: 49 movies\n",
      "Thriller: 34 movies\n"
     ]
    }
   ],
   "source": [
    "# Show user preferences\n",
    "print(\"\\nExample - User 1 preferences:\")\n",
    "print(\"-\" * 40)\n",
    "for i, genre in enumerate(all_genres):\n",
    "    count = user_preferences[1][i]\n",
    "    if count > 0:  \n",
    "        print(f\"{genre}: {count}\")\n",
    "\n",
    "# Show top 5 preferred genres\n",
    "print(\"\\nUser 1's top preferred genres:\")\n",
    "user1_vector = user_preferences[1]\n",
    "genre_counts = list(zip(all_genres, user1_vector))\n",
    "sorted_genres = sorted(genre_counts, key=lambda x: x[1], reverse=True)\n",
    "\n",
    "for genre, count in sorted_genres[:5]:\n",
    "    if count > 0:\n",
    "        print(f\"{genre}: {count} movies\")"
   ]
  },
  {
   "cell_type": "markdown",
   "id": "64979a3d",
   "metadata": {},
   "source": [
    "## Cosine Similarity"
   ]
  },
  {
   "cell_type": "code",
   "execution_count": 12,
   "id": "dc5b9c93-8566-4d57-8129-8d659cabb262",
   "metadata": {},
   "outputs": [
    {
     "name": "stdout",
     "output_type": "stream",
     "text": [
      "User 1 recommendations: [117646, 55116, 4956, 5657, 6990, 4818, 42015, 164226, 82765, 2890]\n"
     ]
    }
   ],
   "source": [
    "from sklearn.preprocessing import MultiLabelBinarizer\n",
    "from sklearn.metrics.pairwise import cosine_similarity\n",
    "from numpy.linalg import norm\n",
    "import numpy as np\n",
    "\n",
    "# 1. One‑hot encode all movies by genre\n",
    "mlb = MultiLabelBinarizer(classes=all_genres)\n",
    "genre_matrix = pd.DataFrame(\n",
    "    mlb.fit_transform(movies['genre_list']),\n",
    "    index=movies['movieId'],\n",
    "    columns=all_genres\n",
    ")\n",
    "\n",
    "# 2. Normalize each user’s preference vector\n",
    "user_profiles_norm = {}\n",
    "for uid, vec in user_preferences.items():\n",
    "    v = np.array(vec, dtype=float)\n",
    "    n = norm(v)\n",
    "    user_profiles_norm[uid] = (v / n) if n > 0 else v\n",
    "\n",
    "# 3. For each user, score all unseen movies and pick Top‑K\n",
    "K = 10\n",
    "recommendations = {}\n",
    "\n",
    "for uid, uvec in user_profiles_norm.items():\n",
    "    # movies user has already rated (train)\n",
    "    seen = set(train_ratings[train_ratings['userId'] == uid]['movieId'])\n",
    "    \n",
    "    # candidate pool = all movies minus seen\n",
    "    candidates = genre_matrix.drop(index=seen, errors='ignore')\n",
    "    \n",
    "    # compute cosine similarity\n",
    "    sims = cosine_similarity(uvec.reshape(1, -1), candidates.values)[0]\n",
    "    \n",
    "    # grab the Top‑K movieIds\n",
    "    top_k_ids = candidates.index[np.argsort(sims)[-K:][::-1]]\n",
    "    recommendations[uid] = list(top_k_ids)\n",
    "\n",
    "# 4. Peeking at a user's top 10 films, the first being the highest, as a test.\n",
    "print(\"User 1 recommendations:\", recommendations.get(1, [])[:K])\n"
   ]
  },
  {
   "cell_type": "markdown",
   "id": "6549f426",
   "metadata": {},
   "source": [
    "Highlighting how strongly each recommended movie matches User 1’s genre preferences."
   ]
  },
  {
   "cell_type": "code",
   "execution_count": 14,
   "id": "688a4872",
   "metadata": {},
   "outputs": [
    {
     "data": {
      "image/png": "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",
      "text/plain": [
       "<Figure size 1000x600 with 1 Axes>"
      ]
     },
     "metadata": {},
     "output_type": "display_data"
    }
   ],
   "source": [
    "import matplotlib.pyplot as plt\n",
    "\n",
    "# For example, re-calculate sims for user 1\n",
    "uvec = user_profiles_norm[1]\n",
    "seen = set(train_ratings[train_ratings['userId'] == 1]['movieId'])\n",
    "candidates = genre_matrix.drop(index=seen, errors='ignore')\n",
    "sims = cosine_similarity(uvec.reshape(1, -1), candidates.values)[0]\n",
    "\n",
    "# Top 10 movie IDs and their scores\n",
    "top_k_idx = np.argsort(sims)[-K:][::-1]\n",
    "top_k_scores = sims[top_k_idx]\n",
    "top_k_movie_ids = candidates.index[top_k_idx]\n",
    "\n",
    "# Map movie IDs to titles\n",
    "top_titles = movies[movies['movieId'].isin(top_k_movie_ids)].set_index('movieId').loc[top_k_movie_ids]['title']\n",
    "\n",
    "# Plot\n",
    "user_id = 1\n",
    "plt.figure(figsize=(10, 6))\n",
    "plt.barh(top_titles, top_k_scores, color='skyblue')\n",
    "plt.xlabel(\"Cosine Similarity Score\")\n",
    "plt.title(f\"User {user_id} - Top 10 Recommended Movies by Cosine Similarity\")\n",
    "plt.gca().invert_yaxis()  # Highest score at top\n",
    "plt.show()\n"
   ]
  },
  {
   "cell_type": "code",
   "execution_count": null,
   "id": "4743a19c",
   "metadata": {},
   "outputs": [
    {
     "name": "stdout",
     "output_type": "stream",
     "text": [
      "\n",
      "Top 10 Recommendations for User 1:\n"
     ]
    },
    {
     "data": {
      "text/html": [
       "<div>\n",
       "<style scoped>\n",
       "    .dataframe tbody tr th:only-of-type {\n",
       "        vertical-align: middle;\n",
       "    }\n",
       "\n",
       "    .dataframe tbody tr th {\n",
       "        vertical-align: top;\n",
       "    }\n",
       "\n",
       "    .dataframe thead th {\n",
       "        text-align: right;\n",
       "    }\n",
       "</style>\n",
       "<table border=\"1\" class=\"dataframe\">\n",
       "  <thead>\n",
       "    <tr style=\"text-align: right;\">\n",
       "      <th></th>\n",
       "      <th>movieId</th>\n",
       "      <th>title</th>\n",
       "      <th>genres</th>\n",
       "    </tr>\n",
       "  </thead>\n",
       "  <tbody>\n",
       "    <tr>\n",
       "      <th>8597</th>\n",
       "      <td>117646</td>\n",
       "      <td>Dragonheart 2: A New Beginning (2000)</td>\n",
       "      <td>Action|Adventure|Comedy|Drama|Fantasy|Thriller</td>\n",
       "    </tr>\n",
       "    <tr>\n",
       "      <th>6570</th>\n",
       "      <td>55116</td>\n",
       "      <td>Hunting Party, The (2007)</td>\n",
       "      <td>Action|Adventure|Comedy|Drama|Thriller</td>\n",
       "    </tr>\n",
       "    <tr>\n",
       "      <th>3608</th>\n",
       "      <td>4956</td>\n",
       "      <td>Stunt Man, The (1980)</td>\n",
       "      <td>Action|Adventure|Comedy|Drama|Romance|Thriller</td>\n",
       "    </tr>\n",
       "    <tr>\n",
       "      <th>4681</th>\n",
       "      <td>6990</td>\n",
       "      <td>The Great Train Robbery (1978)</td>\n",
       "      <td>Action|Adventure|Comedy|Crime|Drama</td>\n",
       "    </tr>\n",
       "    <tr>\n",
       "      <th>4005</th>\n",
       "      <td>5657</td>\n",
       "      <td>Flashback (1990)</td>\n",
       "      <td>Action|Adventure|Comedy|Crime|Drama</td>\n",
       "    </tr>\n",
       "    <tr>\n",
       "      <th>3526</th>\n",
       "      <td>4818</td>\n",
       "      <td>Extreme Days (2001)</td>\n",
       "      <td>Action|Adventure|Comedy|Drama</td>\n",
       "    </tr>\n",
       "    <tr>\n",
       "      <th>6094</th>\n",
       "      <td>42015</td>\n",
       "      <td>Casanova (2005)</td>\n",
       "      <td>Action|Adventure|Comedy|Drama|Romance</td>\n",
       "    </tr>\n",
       "    <tr>\n",
       "      <th>9394</th>\n",
       "      <td>164226</td>\n",
       "      <td>Maximum Ride (2016)</td>\n",
       "      <td>Action|Adventure|Comedy|Fantasy|Sci-Fi|Thriller</td>\n",
       "    </tr>\n",
       "    <tr>\n",
       "      <th>2174</th>\n",
       "      <td>2890</td>\n",
       "      <td>Three Kings (1999)</td>\n",
       "      <td>Action|Adventure|Comedy|Drama|War</td>\n",
       "    </tr>\n",
       "    <tr>\n",
       "      <th>7492</th>\n",
       "      <td>82765</td>\n",
       "      <td>Little Big Soldier (Da bing xiao jiang) (2010)</td>\n",
       "      <td>Action|Adventure|Comedy|Drama|War</td>\n",
       "    </tr>\n",
       "  </tbody>\n",
       "</table>\n",
       "</div>"
      ],
      "text/plain": [
       "      movieId                                           title  \\\n",
       "8597   117646           Dragonheart 2: A New Beginning (2000)   \n",
       "6570    55116                       Hunting Party, The (2007)   \n",
       "3608     4956                           Stunt Man, The (1980)   \n",
       "4681     6990                  The Great Train Robbery (1978)   \n",
       "4005     5657                                Flashback (1990)   \n",
       "3526     4818                             Extreme Days (2001)   \n",
       "6094    42015                                 Casanova (2005)   \n",
       "9394   164226                             Maximum Ride (2016)   \n",
       "2174     2890                              Three Kings (1999)   \n",
       "7492    82765  Little Big Soldier (Da bing xiao jiang) (2010)   \n",
       "\n",
       "                                               genres  \n",
       "8597   Action|Adventure|Comedy|Drama|Fantasy|Thriller  \n",
       "6570           Action|Adventure|Comedy|Drama|Thriller  \n",
       "3608   Action|Adventure|Comedy|Drama|Romance|Thriller  \n",
       "4681              Action|Adventure|Comedy|Crime|Drama  \n",
       "4005              Action|Adventure|Comedy|Crime|Drama  \n",
       "3526                    Action|Adventure|Comedy|Drama  \n",
       "6094            Action|Adventure|Comedy|Drama|Romance  \n",
       "9394  Action|Adventure|Comedy|Fantasy|Sci-Fi|Thriller  \n",
       "2174                Action|Adventure|Comedy|Drama|War  \n",
       "7492                Action|Adventure|Comedy|Drama|War  "
      ]
     },
     "metadata": {},
     "output_type": "display_data"
    },
    {
     "name": "stdout",
     "output_type": "stream",
     "text": [
      "\n",
      "Top 10 Recommendations for User 2:\n"
     ]
    },
    {
     "data": {
      "text/html": [
       "<div>\n",
       "<style scoped>\n",
       "    .dataframe tbody tr th:only-of-type {\n",
       "        vertical-align: middle;\n",
       "    }\n",
       "\n",
       "    .dataframe tbody tr th {\n",
       "        vertical-align: top;\n",
       "    }\n",
       "\n",
       "    .dataframe thead th {\n",
       "        text-align: right;\n",
       "    }\n",
       "</style>\n",
       "<table border=\"1\" class=\"dataframe\">\n",
       "  <thead>\n",
       "    <tr style=\"text-align: right;\">\n",
       "      <th></th>\n",
       "      <th>movieId</th>\n",
       "      <th>title</th>\n",
       "      <th>genres</th>\n",
       "    </tr>\n",
       "  </thead>\n",
       "  <tbody>\n",
       "    <tr>\n",
       "      <th>118</th>\n",
       "      <td>145</td>\n",
       "      <td>Bad Boys (1995)</td>\n",
       "      <td>Action|Comedy|Crime|Drama|Thriller</td>\n",
       "    </tr>\n",
       "    <tr>\n",
       "      <th>3657</th>\n",
       "      <td>5027</td>\n",
       "      <td>Another 48 Hrs. (1990)</td>\n",
       "      <td>Action|Comedy|Crime|Drama|Thriller</td>\n",
       "    </tr>\n",
       "    <tr>\n",
       "      <th>3989</th>\n",
       "      <td>5628</td>\n",
       "      <td>Wasabi (2001)</td>\n",
       "      <td>Action|Comedy|Crime|Drama|Thriller</td>\n",
       "    </tr>\n",
       "    <tr>\n",
       "      <th>1103</th>\n",
       "      <td>1432</td>\n",
       "      <td>Metro (1997)</td>\n",
       "      <td>Action|Comedy|Crime|Drama|Thriller</td>\n",
       "    </tr>\n",
       "    <tr>\n",
       "      <th>19</th>\n",
       "      <td>20</td>\n",
       "      <td>Money Train (1995)</td>\n",
       "      <td>Action|Comedy|Crime|Drama|Thriller</td>\n",
       "    </tr>\n",
       "    <tr>\n",
       "      <th>4693</th>\n",
       "      <td>7007</td>\n",
       "      <td>Last Boy Scout, The (1991)</td>\n",
       "      <td>Action|Comedy|Crime|Drama|Thriller</td>\n",
       "    </tr>\n",
       "    <tr>\n",
       "      <th>2452</th>\n",
       "      <td>3265</td>\n",
       "      <td>Hard-Boiled (Lat sau san taam) (1992)</td>\n",
       "      <td>Action|Crime|Drama|Thriller</td>\n",
       "    </tr>\n",
       "    <tr>\n",
       "      <th>5491</th>\n",
       "      <td>26344</td>\n",
       "      <td>French Connection II (1975)</td>\n",
       "      <td>Action|Crime|Drama|Thriller</td>\n",
       "    </tr>\n",
       "    <tr>\n",
       "      <th>9594</th>\n",
       "      <td>175585</td>\n",
       "      <td>Shot Caller (2017)</td>\n",
       "      <td>Action|Crime|Drama|Thriller</td>\n",
       "    </tr>\n",
       "    <tr>\n",
       "      <th>5895</th>\n",
       "      <td>33437</td>\n",
       "      <td>Unleashed (Danny the Dog) (2005)</td>\n",
       "      <td>Action|Crime|Drama|Thriller</td>\n",
       "    </tr>\n",
       "  </tbody>\n",
       "</table>\n",
       "</div>"
      ],
      "text/plain": [
       "      movieId                                  title  \\\n",
       "118       145                        Bad Boys (1995)   \n",
       "3657     5027                 Another 48 Hrs. (1990)   \n",
       "3989     5628                          Wasabi (2001)   \n",
       "1103     1432                           Metro (1997)   \n",
       "19         20                     Money Train (1995)   \n",
       "4693     7007             Last Boy Scout, The (1991)   \n",
       "2452     3265  Hard-Boiled (Lat sau san taam) (1992)   \n",
       "5491    26344            French Connection II (1975)   \n",
       "9594   175585                     Shot Caller (2017)   \n",
       "5895    33437       Unleashed (Danny the Dog) (2005)   \n",
       "\n",
       "                                  genres  \n",
       "118   Action|Comedy|Crime|Drama|Thriller  \n",
       "3657  Action|Comedy|Crime|Drama|Thriller  \n",
       "3989  Action|Comedy|Crime|Drama|Thriller  \n",
       "1103  Action|Comedy|Crime|Drama|Thriller  \n",
       "19    Action|Comedy|Crime|Drama|Thriller  \n",
       "4693  Action|Comedy|Crime|Drama|Thriller  \n",
       "2452         Action|Crime|Drama|Thriller  \n",
       "5491         Action|Crime|Drama|Thriller  \n",
       "9594         Action|Crime|Drama|Thriller  \n",
       "5895         Action|Crime|Drama|Thriller  "
      ]
     },
     "metadata": {},
     "output_type": "display_data"
    },
    {
     "name": "stdout",
     "output_type": "stream",
     "text": [
      "\n",
      "Top 10 Recommendations for User 3:\n"
     ]
    },
    {
     "data": {
      "text/html": [
       "<div>\n",
       "<style scoped>\n",
       "    .dataframe tbody tr th:only-of-type {\n",
       "        vertical-align: middle;\n",
       "    }\n",
       "\n",
       "    .dataframe tbody tr th {\n",
       "        vertical-align: top;\n",
       "    }\n",
       "\n",
       "    .dataframe thead th {\n",
       "        text-align: right;\n",
       "    }\n",
       "</style>\n",
       "<table border=\"1\" class=\"dataframe\">\n",
       "  <thead>\n",
       "    <tr style=\"text-align: right;\">\n",
       "      <th></th>\n",
       "      <th>movieId</th>\n",
       "      <th>title</th>\n",
       "      <th>genres</th>\n",
       "    </tr>\n",
       "  </thead>\n",
       "  <tbody>\n",
       "    <tr>\n",
       "      <th>6789</th>\n",
       "      <td>60471</td>\n",
       "      <td>Rogue (2007)</td>\n",
       "      <td>Action|Adventure|Horror|Sci-Fi|Thriller</td>\n",
       "    </tr>\n",
       "    <tr>\n",
       "      <th>7943</th>\n",
       "      <td>95796</td>\n",
       "      <td>Anaconda: The Offspring (2008)</td>\n",
       "      <td>Action|Horror|Sci-Fi|Thriller</td>\n",
       "    </tr>\n",
       "    <tr>\n",
       "      <th>4334</th>\n",
       "      <td>6333</td>\n",
       "      <td>X2: X-Men United (2003)</td>\n",
       "      <td>Action|Adventure|Sci-Fi|Thriller</td>\n",
       "    </tr>\n",
       "    <tr>\n",
       "      <th>5265</th>\n",
       "      <td>8644</td>\n",
       "      <td>I, Robot (2004)</td>\n",
       "      <td>Action|Adventure|Sci-Fi|Thriller</td>\n",
       "    </tr>\n",
       "    <tr>\n",
       "      <th>418</th>\n",
       "      <td>480</td>\n",
       "      <td>Jurassic Park (1993)</td>\n",
       "      <td>Action|Adventure|Sci-Fi|Thriller</td>\n",
       "    </tr>\n",
       "    <tr>\n",
       "      <th>1194</th>\n",
       "      <td>1591</td>\n",
       "      <td>Spawn (1997)</td>\n",
       "      <td>Action|Adventure|Sci-Fi|Thriller</td>\n",
       "    </tr>\n",
       "    <tr>\n",
       "      <th>8750</th>\n",
       "      <td>127323</td>\n",
       "      <td>Vice (2015)</td>\n",
       "      <td>Action|Adventure|Sci-Fi|Thriller</td>\n",
       "    </tr>\n",
       "    <tr>\n",
       "      <th>1766</th>\n",
       "      <td>2364</td>\n",
       "      <td>Godzilla 1985: The Legend Is Reborn (Gojira) (...</td>\n",
       "      <td>Action|Horror|Sci-Fi|Thriller</td>\n",
       "    </tr>\n",
       "    <tr>\n",
       "      <th>6577</th>\n",
       "      <td>55232</td>\n",
       "      <td>Resident Evil: Extinction (2007)</td>\n",
       "      <td>Action|Horror|Sci-Fi|Thriller</td>\n",
       "    </tr>\n",
       "    <tr>\n",
       "      <th>5949</th>\n",
       "      <td>34334</td>\n",
       "      <td>Stealth (2005)</td>\n",
       "      <td>Action|Adventure|Sci-Fi|Thriller</td>\n",
       "    </tr>\n",
       "  </tbody>\n",
       "</table>\n",
       "</div>"
      ],
      "text/plain": [
       "      movieId                                              title  \\\n",
       "6789    60471                                       Rogue (2007)   \n",
       "7943    95796                     Anaconda: The Offspring (2008)   \n",
       "4334     6333                            X2: X-Men United (2003)   \n",
       "5265     8644                                    I, Robot (2004)   \n",
       "418       480                               Jurassic Park (1993)   \n",
       "1194     1591                                       Spawn (1997)   \n",
       "8750   127323                                        Vice (2015)   \n",
       "1766     2364  Godzilla 1985: The Legend Is Reborn (Gojira) (...   \n",
       "6577    55232                   Resident Evil: Extinction (2007)   \n",
       "5949    34334                                     Stealth (2005)   \n",
       "\n",
       "                                       genres  \n",
       "6789  Action|Adventure|Horror|Sci-Fi|Thriller  \n",
       "7943            Action|Horror|Sci-Fi|Thriller  \n",
       "4334         Action|Adventure|Sci-Fi|Thriller  \n",
       "5265         Action|Adventure|Sci-Fi|Thriller  \n",
       "418          Action|Adventure|Sci-Fi|Thriller  \n",
       "1194         Action|Adventure|Sci-Fi|Thriller  \n",
       "8750         Action|Adventure|Sci-Fi|Thriller  \n",
       "1766            Action|Horror|Sci-Fi|Thriller  \n",
       "6577            Action|Horror|Sci-Fi|Thriller  \n",
       "5949         Action|Adventure|Sci-Fi|Thriller  "
      ]
     },
     "metadata": {},
     "output_type": "display_data"
    }
   ],
   "source": [
    "for user_id in [1, 2, 3]:\n",
    "    top_movie_ids = recommendations.get(user_id, [])\n",
    "    top_movies = movies[movies['movieId'].isin(top_movie_ids)][['movieId', 'title', 'genres']]\n",
    "    top_movies['rec_order'] = top_movies['movieId'].apply(lambda x: top_movie_ids.index(x))\n",
    "    top_movies = top_movies.sort_values('rec_order').drop('rec_order', axis=1)\n",
    "    \n",
    "    print(f\"\\nTop 10 Recommendations for User {user_id}:\")\n",
    "    display(top_movies)\n"
   ]
  },
  {
   "cell_type": "markdown",
   "id": "a71cea7e-a837-4ccc-aa7b-1cf81c51d013",
   "metadata": {},
   "source": [
    "## Precision at K"
   ]
  },
  {
   "cell_type": "code",
   "execution_count": null,
   "id": "7fc76b7f",
   "metadata": {},
   "outputs": [
    {
     "name": "stdout",
     "output_type": "stream",
     "text": [
      "Average Precision at K: 0.006065573770491807\n"
     ]
    }
   ],
   "source": [
    "\n",
    "#generate a dataframe of test rows that were rated well\n",
    "good_test_ratings = test_ratings[test_ratings['rating'] >= 4.0]\n",
    "\n",
    "#calculate precision at k for each user\n",
    "k = 10\n",
    "precision_at_k = {}\n",
    "for uid, recs in recommendations.items():\n",
    "    a = 0\n",
    "    for movie in recs[:k]:\n",
    "        if movie in good_test_ratings['movieId'][good_test_ratings['userId'] == uid].values:\n",
    "            a += 1\n",
    "    precision_at_k[uid] = a / k\n",
    "\n",
    "#find average precision at k for all users\n",
    "sum_precision = 0\n",
    "for uid, recs in precision_at_k.items():\n",
    "    sum_precision += recs\n",
    "\n",
    "average_precision = sum_precision / len(recommendations)\n",
    "\n",
    "print(\"Average Precision at K:\", average_precision)"
   ]
  },
  {
   "cell_type": "markdown",
   "id": "a4aa3152-d807-40eb-868d-b39af731c69a",
   "metadata": {},
   "source": [
    "## Precision at K Curve"
   ]
  },
  {
   "cell_type": "code",
   "execution_count": null,
   "id": "4de4fd80-6ee3-47ba-9757-406ccd663968",
   "metadata": {},
   "outputs": [
    {
     "data": {
      "image/png": "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",
      "text/plain": [
       "<Figure size 640x480 with 1 Axes>"
      ]
     },
     "metadata": {},
     "output_type": "display_data"
    }
   ],
   "source": [
    "#graph average precision at k with k ranging from 1 to 20\n",
    "\n",
    "import matplotlib.pyplot as plt\n",
    "import numpy as np\n",
    "import seaborn as sns\n",
    "\n",
    "#using trained moddel generate top k recommendations for each user and then calculate average precision at k\n",
    "#build a dictionary of k values and their corresponding average precision at k\n",
    "\n",
    "k_values = {}\n",
    "\n",
    "#generate top 20 recommendations for each user\n",
    "recommendations = {}\n",
    "\n",
    "k = 20\n",
    "\n",
    "for uid, uvec in user_profiles_norm.items():\n",
    "    # movies user has already rated (train)\n",
    "    seen = set(train_ratings[train_ratings['userId'] == uid]['movieId'])\n",
    "    \n",
    "    # candidate pool = all movies minus seen\n",
    "    candidates = genre_matrix.drop(index=seen, errors='ignore')\n",
    "    \n",
    "    # compute cosine similarity\n",
    "    sims = cosine_similarity(uvec.reshape(1, -1), candidates.values)[0]\n",
    "    \n",
    "    # grab the Top‑K movieIds\n",
    "    top_k_ids = candidates.index[np.argsort(sims)[-K:][::-1]]\n",
    "    recommendations[uid] = list(top_k_ids)\n",
    "\n",
    "#calculate the average precision at k ranging from 1 to 20 and use to fill k_values dictionary\n",
    "k = 1\n",
    "for k in range(1, 21):\n",
    "\n",
    "    precision_at_k = {}\n",
    "    for uid, recs in recommendations.items():\n",
    "        a = 0\n",
    "        for movie in recs[:k]:\n",
    "            if movie in good_test_ratings['movieId'][good_test_ratings['userId'] == uid].values:\n",
    "                a += 1\n",
    "        precision_at_k[uid] = a / k\n",
    "\n",
    "        #find average precision at k for all users\n",
    "    sum_precision = 0\n",
    "    for uid, recs in precision_at_k.items():\n",
    "        sum_precision += recs\n",
    "\n",
    "    average_precision = sum_precision / len(recommendations)\n",
    "    k_values[k] = average_precision\n",
    "\n",
    "\n",
    "#plot k_values\n",
    "plt.plot(list(k_values.keys()), list(k_values.values()))\n",
    "plt.xlabel('K (number of recommendations)')\n",
    "plt.ylabel('Average Precision at K')\n",
    "plt.title('Average Precision at K vs K')\n",
    "plt.xticks(list(k_values.keys()))\n",
    "plt.show()"
   ]
  },
  {
   "cell_type": "markdown",
   "id": "bc4e1658",
   "metadata": {},
   "source": [
    "## Confusion Matrix"
   ]
  },
  {
   "cell_type": "code",
   "execution_count": null,
   "id": "85dcaa50",
   "metadata": {},
   "outputs": [],
   "source": [
    "import matplotlib.pyplot as plt"
   ]
  },
  {
   "cell_type": "code",
   "execution_count": null,
   "id": "f0e62f08",
   "metadata": {},
   "outputs": [],
   "source": [
    "# Calculate hits and misses\n",
    "hits = 0  # True Positives\n",
    "misses = 0  # False Positives\n",
    "not_recommended_but_liked = 0  # False Negatives"
   ]
  },
  {
   "cell_type": "code",
   "execution_count": null,
   "id": "a1d4417e",
   "metadata": {},
   "outputs": [],
   "source": [
    "# For each user\n",
    "for uid in recommendations:\n",
    "    # Get movies this user liked in test set\n",
    "    liked_test_movies = set(good_test_ratings[good_test_ratings['userId'] == uid]['movieId'])\n",
    "    \n",
    "    # Get recommendations for this user\n",
    "    recommended_movies = recommendations[uid][:k]\n",
    "    \n",
    "    # Count hits and misses\n",
    "    for movie_id in recommended_movies:\n",
    "        if movie_id in liked_test_movies:\n",
    "            hits += 1  \n",
    "        else:\n",
    "            misses += 1 \n",
    "    \n",
    "    # Count movies that were liked but not recommended\n",
    "    for movie_id in liked_test_movies:\n",
    "        if movie_id not in recommended_movies:\n",
    "            not_recommended_but_liked += 1  "
   ]
  },
  {
   "cell_type": "code",
   "execution_count": null,
   "id": "768de5be",
   "metadata": {},
   "outputs": [
    {
     "name": "stdout",
     "output_type": "stream",
     "text": [
      "Precision: 0.0061\n",
      "Total recommendations: 6100\n",
      "Total hits: 37\n",
      "Total misses: 6063\n",
      "Not recommended but liked: 9801\n"
     ]
    }
   ],
   "source": [
    "# Create the confusion matrix array\n",
    "confusion_mat = np.array([\n",
    "    [hits, misses],\n",
    "    [not_recommended_but_liked, 0]  # We don't track true negatives\n",
    "])\n",
    "# Calculate performance metrics\n",
    "total_recommendations = hits + misses\n",
    "precision = hits / total_recommendations if total_recommendations > 0 else 0\n",
    "# Metrics\n",
    "print(f\"Precision: {precision:.4f}\")\n",
    "print(f\"Total recommendations: {total_recommendations}\")\n",
    "print(f\"Total hits: {hits}\")\n",
    "print(f\"Total misses: {misses}\")\n",
    "print(f\"Not recommended but liked: {not_recommended_but_liked}\")"
   ]
  },
  {
   "cell_type": "code",
   "execution_count": null,
   "id": "c0aa8782",
   "metadata": {},
   "outputs": [
    {
     "name": "stdout",
     "output_type": "stream",
     "text": [
      "Total recommendations evaluated: 6100\n",
      "Hits: 37 (0.61%)\n",
      "Misses: 6063 (99.39%)\n"
     ]
    }
   ],
   "source": [
    "#Simple stats\n",
    "total = hits + misses\n",
    "print(f\"Total recommendations evaluated: {total}\")\n",
    "print(f\"Hits: {hits} ({hits/total:.2%})\")\n",
    "print(f\"Misses: {misses} ({misses/total:.2%})\")"
   ]
  },
  {
   "cell_type": "code",
   "execution_count": null,
   "id": "dc575e09",
   "metadata": {},
   "outputs": [
    {
     "data": {
      "image/png": "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",
      "text/plain": [
       "<Figure size 640x480 with 1 Axes>"
      ]
     },
     "metadata": {},
     "output_type": "display_data"
    }
   ],
   "source": [
    "#Plotting\n",
    "ax = plt.gca()\n",
    "ax.set_xticks([0, 1])\n",
    "ax.set_yticks([0, 1])\n",
    "ax.set_xticklabels(['Liked', 'Not Liked'])\n",
    "ax.set_yticklabels(['Recommended', 'Not Recommended'])\n",
    "ax.set_xlabel('Predicted')\n",
    "ax.set_ylabel('Actual')\n",
    "ax.set_title('Movie Recommender Confusion Matrix')\n",
    "\n",
    "#Plot the data\n",
    "im = plt.imshow(confusion_mat, cmap='Blues')\n",
    "\n",
    "#Text annotations\n",
    "for i in range(2):\n",
    "    for j in range(2):\n",
    "        plt.text(j, i, str(confusion_mat[i, j]), \n",
    "                 ha=\"center\", va=\"center\", color=\"black\", fontsize=14)"
   ]
  },
  {
   "cell_type": "code",
   "execution_count": null,
   "id": "eb0cb002",
   "metadata": {},
   "outputs": [
    {
     "data": {
      "image/png": "iVBORw0KGgoAAAANSUhEUgAAAjwAAAGmCAYAAAB4Gl4iAAAAOXRFWHRTb2Z0d2FyZQBNYXRwbG90bGliIHZlcnNpb24zLjkuMiwgaHR0cHM6Ly9tYXRwbG90bGliLm9yZy8hTgPZAAAACXBIWXMAAA9hAAAPYQGoP6dpAAAqCUlEQVR4nO3de3hU5YHH8d+QIQkEEi6BcAvhImgEuSULkpBSUQIBoWxFsLJcLGkbRblEcUFcAkgbtYJ4S1C5uD4ElkKBak2RtAgEsCgUtkq03EmQQBqUTLgFkrz7B09mHSdBJlxCX7+f5zl/5M17Ju94lp7vnjkz4zDGGAEAAFisVk0vAAAA4EYjeAAAgPUIHgAAYD2CBwAAWI/gAQAA1iN4AACA9QgeAABgPYIHAABYj+ABAADWI3gAAID1rmvwlJeX6/XXX1ePHj1Ut25dBQcHq2/fvnrvvfcqnb9//3498sgj6tChg+rUqaOWLVuqf//+Vc6XpOXLl6tnz54KCgpSw4YNNWjQIO3cubPSue+//76eeOIJxcbGKigoSA6HQ7NmzboeTxUAAFTh008/1aBBg9SwYUMFBQWpZ8+eWr58eY2u6boFjzFGI0aM0BNPPCGXy6Xx48froYce0pdffqmf/OQnev311z3m79ixQ127dtWyZcvUpUsXTZo0SQMGDNCnn36qn/zkJ5o9e7bX3/jNb36jUaNG6eTJk0pKStKIESO0bds2xcbGatOmTV7z582bp9dff12ff/65WrRocb2eKgAAqMKmTZvUp08fZWdna/jw4Xr00UdVWFioUaNG6Te/+U3NLcxcJ6tWrTKSTGxsrDl37px7/J///KeJiIgwAQEB5vDhw+7xhIQEI8n84Q9/8Hico0ePmuDgYFOnTh1z4cIF9/i+ffuM0+k0HTt2NKdPn3aPf/7556Zu3bqmffv25tKlSx6PtWXLFrNv3z5TXl5uVqxYYSSZlJSU6/WUAQDAt1y6dMm0b9/eBAQEmL/97W/ucZfLZTp16mScTqfZt29fjaztul3hWbdunSTpmWeeUZ06ddzjoaGhmjJlikpKSrR06VL3+KFDh+RwODRw4ECPx2ndurU6d+6s8+fPq7i42D2+dOlSlZaWasaMGQoJCXGPd+rUSWPGjNHBgwe1ceNGj8eKi4tThw4d5HA4rtfTBAAAVdi4caMOHjyohx9+WN27d3eP169fX//1X/+l0tJSjxa4mXwOni1btmjIkCFq0aKFHA6HO3ROnjwpSWrbtq3XPmfPnpUkPffcc2rXrp0WLlyoTp06yRijDRs2eMzNy8vT559/rrvuukuhoaHu8YqXrOLj470ef8CAAZKkzZs3+/p0AADAdXKlc3XFWE2dq30OnrNnz6pr165e9+Q0adJEknT48GGP8cOHD7tvFG7UqJGeeeYZTZw4UXFxcWratKl++tOf6sEHH9T06dOVmJiorl27KiIiQr/73e88Hmf//v2qV6+emjVr5rWmDh06uOcAAICaUXEerjgvf1vDhg0VGhpaY+dqp687JCQkKCEhodLxFStW6Pnnn1e/fv0UGBgoSXr55Zfdc4qLi5WYmKidO3dq5cqV+utf/6oHH3xQq1evds9p2LCh+51b31ZUVKSmTZtWuqbg4GD3HAAAUDMqzsPfvvXk24KDg3Xs2LGbuSQ3n4OnKj/72c+0dOlSffTRR7rrrrs0cOBAXbp0SUuWLFFISIgKCwvl5+cn6fJLUIsWLVKfPn3UqVMn7dq1S3fccYdOnjyptLQ0JScna+PGjcrIyJB0+e3u0uV3grlcLq+/XXGvT2lpaaW/l6Rz585JkkpKSqqcAwAAqq+0tFTS5fOyy+WSMUbFxcVq0aKFatWq4Y/+u5Y7niWZtWvXun++cOGCmTVrlunYsaPx9/c3TZo0McHBwWbKlClGkmndurUxxpjNmzcbSaZ58+bm7NmzXo/bqVMnI4mNjY2NjY3Ngi0vL88YY0xoaKhp0qTJtaRHtV23KzySFBAQoJSUFKWkpLjHOnbs6L4CEx0dLUk6cuSIJKl79+6qW7eu1+M8+uijevzxx/Xcc89p4sSJKioqUuvWrSVJ+/btU1hYmMf8P/7xjxo1apSefPJJzZw5s9K1rV69WuPHj9e0adM0ffr0a36uAADA0+zZszV//nwtXrxYw4cPl8vlUnh4uOrXr69vvvlGhYWFiomJqZG1XdfgqUyzZs308ccfS5IeeughSVJBQYEkVfnS0unTpyVdfg2w4v6cCh9//LHGjBnjMZadnS3p8h3g351foSKsAgICqpwDAACqLz4+XvPnz9fWrVv185//3D3ucDjc78ru27dvjaztur6gVlnANGrUSHv37tW//du/6ac//amky1dp/Pz8tH37dq+3pR8/flxpaWmSpB//+Mcev3M6nfr1r3/tcXPy3r179e6776p9+/bq16/f9Xw6AADAB/fee6/atWun5cuXa8+ePe7x4uJiPffcc3I6nRo3blyNrM3nKzxnzpzRgQMH3D8fPnxYe/bsUaNGjTRgwABduHBBgYGBGjp0qD755BNt2rRJDodDXbp00b59+/Txxx/rnXfe0S9/+Uulp6crISFBgwcPVmRkpE6ePKm1a9fK5XJpwoQJuuuuuzz+9rRp0zR37lx16dJFw4cP19mzZ7VixQpdunRJb7/9tpxOz6ezbt069+cEVbxdft26de6X1Pr06aPExERf/xMAAIBKOJ1OLVq0SAMGDFBcXJweeOABSVJsbKyOHj2quXPnqmPHjjWzOF9v+vnoo48qvSFp7NixJiUlxTRs2ND4+fmZwMBAExkZaZ599lnzwQcfmO7duxt/f3/Tpk0bk56ebowx5s9//rO5//77TZMmTYyfn58JDg42cXFx5r//+789/mZRUZGRZIqKisyyZctMdHS0qVOnjgkJCTEDBw40n3zySaVrTUlJueJNVGPHjvX9ricAAHBFO3bsMAMHDjQhISFGkunevbtZtmxZja7JYYwxNRFavnC5XAoJCVFRURH33wAA8C/iVjp/1/Cb4gEAAG48ggcAAFiP4AEAANYjeAAAgPUIHgAAYD2CBwAAWI/gAQAA1iN4AACA9QgeAABgPYIHAABYj+ABAADWI3gAAID1CB4AAGA9ggcAAFiP4AEAANYjeAAAgPUIHgAAYD2CBwAAWI/gAQAA1iN4AACA9QgeAABgPYIHAABYj+ABAADWI3gAAID1CB4AAGA9ggcAAFiP4AEAANYjeAAAgPUIHgAAYD2CBwAAWI/gAQAA1iN4AACA9QgeAABgPYIHAABYj+ABAADWI3gAAID1CB4AAGA9ggcAAFiP4AEAANYjeAAAgPUIHgAAYD2CBwAAWI/gAQAA1iN4AACA9QgeAABgPYIHAABYj+ABAADWI3gAAID1CB4AAGA9ggcAAFiP4AEAANYjeAAAgPUIHgAAYD2CBwAAWI/gAQAA1iN4AACA9QgeAABgPYIHAABYj+ABAADWI3gAAID1CB4AAGA9ggcAAFiP4AEAANarVvCkpaWpbdu2CgwMVFRUlLKzs684PyMjQ127dlXdunXVvHlzPfLIIzp16lS1FgwAAOArn4Nn5cqVmjx5smbMmKHdu3crLi5OCQkJys3NrXT+1q1bNWbMGI0fP1579+7VqlWr9OmnnyoxMfGaFw8AAHA1fA6e+fPna/z48UpMTFRkZKQWLFig8PBwpaenVzr/r3/9q9q0aaOJEyeqbdu26tOnj371q19p586d17x4AACAq+FT8Fy8eFG7du1SfHy8x3h8fLy2b99e6T4xMTE6duyYMjMzZYzRyZMntXr1ag0ePLjKv1NSUiKXy+WxAQAAVJdPwVNYWKiysjKFhYV5jIeFhenEiROV7hMTE6OMjAyNHDlS/v7+atasmRo0aKDXXnutyr+TmpqqkJAQ9xYeHu7LMgEAADxU66Zlh8Ph8bMxxmusQk5OjiZOnKiZM2dq165dWr9+vQ4fPqykpKQqH3/69OkqKipyb3l5edVZJgAAgCTJ6cvk0NBQ+fn5eV3NKSgo8LrqUyE1NVWxsbGaOnWqJKlLly4KCgpSXFyc5s6dq+bNm3vtExAQoICAAF+WBgAAUCWfrvD4+/srKipKWVlZHuNZWVmKiYmpdJ9z586pVi3PP+Pn5yfp8pUhAACAG83nl7SSk5O1aNEiLVmyRF988YWmTJmi3Nxc90tU06dP15gxY9zzhwwZojVr1ig9PV2HDh3Stm3bNHHiRPXs2VMtWrS4fs8EAACgCj69pCVJI0eO1KlTpzRnzhzl5+erc+fOyszMVEREhCQpPz/f4zN5xo0bp+LiYr3++ut68skn1aBBA/Xr108vvPDC9XsWAAAAV+Aw/wKvK7lcLoWEhKioqEjBwcE1vRwAAHAVbqXzN9+lBQAArEfwAAAA6xE8AADAegQPAACwHsEDAACsR/AAAADrETwAAMB6BA8AALAewQMAAKxH8AAAAOsRPAAAwHoEDwAAsB7BAwAArEfwAAAA6xE8AADAegQPAACwHsEDAACsR/AAAADrETwAAMB6BA8AALAewQMAAKxH8AAAAOsRPAAAwHoEDwAAsB7BAwAArEfwAAAA6xE8AADAegQPAACwHsEDAACsR/AAAADrETwAAMB6BA8AALAewQMAAKxH8AAAAOsRPAAAwHoEDwAAsB7BAwAArEfwAAAA6xE8AADAegQPAACwHsEDAACsR/AAAADrETwAAMB6BA8AALAewQMAAKxH8AAAAOsRPAAAwHoEDwAAsB7BAwAArEfwAAAA6xE8AADAegQPAACwHsEDAACsR/AAAADrETwAAMB6BA8AALAewQMAAKxH8AAAAOsRPAAAwHoEDwAAsB7BAwAArEfwAAAA6xE8AADAetUKnrS0NLVt21aBgYGKiopSdnb2FeeXlJRoxowZioiIUEBAgNq3b68lS5ZUa8EAAAC+cvq6w8qVKzV58mSlpaUpNjZWb775phISEpSTk6PWrVtXus+IESN08uRJLV68WLfddpsKCgpUWlp6zYsHAAC4Gg5jjPFlh169eqlHjx5KT093j0VGRmrYsGFKTU31mr9+/Xo99NBDOnTokBo1alStRbpcLoWEhKioqEjBwcHVegwAAHBz3Urnb59e0rp48aJ27dql+Ph4j/H4+Hht37690n3ee+89RUdH68UXX1TLli3VsWNHPfXUUzp//nyVf6ekpEQul8tjAwAAqC6fXtIqLCxUWVmZwsLCPMbDwsJ04sSJSvc5dOiQtm7dqsDAQK1du1aFhYV67LHH9PXXX1d5H09qaqpmz57ty9IAAACqVK2blh0Oh8fPxhivsQrl5eVyOBzKyMhQz549NWjQIM2fP1/vvPNOlVd5pk+frqKiIveWl5dXnWUCAABI8vEKT2hoqPz8/Lyu5hQUFHhd9anQvHlztWzZUiEhIe6xyMhIGWN07NgxdejQwWufgIAABQQE+LI0AACAKvl0hcff319RUVHKysryGM/KylJMTEyl+8TGxur48eM6c+aMe2zfvn2qVauWWrVqVY0lAwAA+Mbnl7SSk5O1aNEiLVmyRF988YWmTJmi3NxcJSUlSbr8ctSYMWPc8x9++GE1btxYjzzyiHJycrRlyxZNnTpVP//5z1WnTp3r90wAAACq4PPn8IwcOVKnTp3SnDlzlJ+fr86dOyszM1MRERGSpPz8fOXm5rrn16tXT1lZWXriiScUHR2txo0ba8SIEZo7d+71exYAAABX4PPn8NSEW+l9/AAA4OrcSudvvksLAABYj+ABAADWI3gAAID1CB4AAGA9ggcAAFiP4AEAANYjeAAAgPUIHgAAYD2CBwAAWI/gAQAA1iN4AACA9QgeAABgPYIHAABYj+ABAADWI3gAAID1CB4AAGA9ggcAAFiP4AEAANYjeAAAgPUIHgAAYD2CBwAAWI/gAQAA1iN4AACA9QgeAABgPYIHAABYj+ABAADWI3gAAID1CB4AAGA9ggcAAFiP4AEAANYjeAAAgPUIHgAAYD2CBwAAWI/gAQAA1iN4AACA9QgeAABgPYIHAABYj+ABAADWI3gAAID1CB4AAGA9ggcAAFiP4AEAANYjeAAAgPUIHgAAYD2CBwAAWI/gAQAA1iN4AACA9QgeAABgPYIHAABYj+ABAADWI3gAAID1CB4AAGA9ggcAAFiP4AEAANYjeAAAgPUIHgAAYD2CBwAAWI/gAQAA1iN4AACA9QgeAABgPYIHAABYj+ABAADWI3gAAID1qhU8aWlpatu2rQIDAxUVFaXs7Oyr2m/btm1yOp3q1q1bdf4sAABAtfgcPCtXrtTkyZM1Y8YM7d69W3FxcUpISFBubu4V9ysqKtKYMWN07733VnuxAAAA1eEwxhhfdujVq5d69Oih9PR091hkZKSGDRum1NTUKvd76KGH1KFDB/n5+WndunXas2dPlXNLSkpUUlLi/tnlcik8PFxFRUUKDg72ZbkAAKCGuFwuhYSE3BLnb5+u8Fy8eFG7du1SfHy8x3h8fLy2b99e5X5Lly7VwYMHlZKSclV/JzU1VSEhIe4tPDzcl2UCAAB48Cl4CgsLVVZWprCwMI/xsLAwnThxotJ99u/fr2nTpikjI0NOp/Oq/s706dNVVFTk3vLy8nxZJgAAgIerK5DvcDgcHj8bY7zGJKmsrEwPP/ywZs+erY4dO1714wcEBCggIKA6SwMAAPDiU/CEhobKz8/P62pOQUGB11UfSSouLtbOnTu1e/duPf7445Kk8vJyGWPkdDq1YcMG9evX7xqWDwAA8P18eknL399fUVFRysrK8hjPyspSTEyM1/zg4GB99tln2rNnj3tLSkrS7bffrj179qhXr17XtnoAAICr4PNLWsnJyRo9erSio6PVu3dvvfXWW8rNzVVSUpKky/fffPXVV3r33XdVq1Ytde7c2WP/pk2bKjAw0GscAADgRvE5eEaOHKlTp05pzpw5ys/PV+fOnZWZmamIiAhJUn5+/vd+Jg8AAMDN5PPn8NSEW+l9/AAA4OrcSudvvksLAABYj+ABAADWI3gAAID1CB4AAGA9ggcAAFiP4AEAANYjeAAAgPUIHgAAYD2CBwAAWI/gAQAA1iN4AACA9QgeAABgPYIHAABYj+ABAADWI3gAAID1CB4AAGA9ggcAAFiP4AEAANYjeAAAgPUIHgAAYD2CBwAAWI/gAQAA1iN4AACA9QgeAABgPYIHAABYj+ABAADWI3gAAID1CB4AAGA9ggcAAFiP4AEAANYjeAAAgPUIHgAAYD2CBwAAWI/gAQAA1iN4AACA9QgeAABgPYIHAABYj+ABAADWI3gAAID1CB4AAGA9ggcAAFiP4AEAANYjeAAAgPUIHgAAYD2CBwAAWI/gAQAA1iN4AACA9QgeAABgPYIHAABYj+ABAADWI3gAAID1CB4AAGA9ggcAAFiP4AEAANYjeAAAgPUIHgAAYD2CBwAAWI/gAQAA1iN4AACA9QgeAABgPYIHAABYj+ABAADWI3gAAID1qhU8aWlpatu2rQIDAxUVFaXs7Owq565Zs0b9+/dXkyZNFBwcrN69e+vDDz+s9oIBAAB85XPwrFy5UpMnT9aMGTO0e/duxcXFKSEhQbm5uZXO37Jli/r376/MzEzt2rVL99xzj4YMGaLdu3df8+IBAACuhsMYY3zZoVevXurRo4fS09PdY5GRkRo2bJhSU1Ov6jE6deqkkSNHaubMmZX+vqSkRCUlJe6fXS6XwsPDVVRUpODgYF+WCwAAaojL5VJISMgtcf726QrPxYsXtWvXLsXHx3uMx8fHa/v27Vf1GOXl5SouLlajRo2qnJOamqqQkBD3Fh4e7ssyAQAAPPgUPIWFhSorK1NYWJjHeFhYmE6cOHFVjzFv3jydPXtWI0aMqHLO9OnTVVRU5N7y8vJ8WSYAAIAHZ3V2cjgcHj8bY7zGKrNixQrNmjVLf/jDH9S0adMq5wUEBCggIKA6SwMAAPDiU/CEhobKz8/P62pOQUGB11Wf71q5cqXGjx+vVatW6b777vN9pQAAANXk00ta/v7+ioqKUlZWlsd4VlaWYmJiqtxvxYoVGjdunJYvX67BgwdXb6UAAADV5PNLWsnJyRo9erSio6PVu3dvvfXWW8rNzVVSUpKky/fffPXVV3r33XclXY6dMWPG6JVXXtHdd9/tvjpUp04dhYSEXMenAgAAUDmfg2fkyJE6deqU5syZo/z8fHXu3FmZmZmKiIiQJOXn53t8Js+bb76p0tJSTZgwQRMmTHCPjx07Vu+88861PwMAAIDv4fPn8NSEW+l9/AAA4OrcSudvvksLAABYj+ABAADWI3gAAID1CB4AAGA9ggcAAFiP4AEAANYjeAAAgPUIHgAAYD2CBwAAWI/gAQAA1iN4AACA9QgeAABgPYIHAABYj+ABAADWI3gAAID1CB4AAGA9ggcAAFiP4AEAANYjeAAAgPUIHgAAYD2CBwAAWI/gAQAA1iN4AACA9QgeAABgPYIHAABYj+ABAADWI3gAAID1CB4AAGA9ggcAAFiP4AEAANYjeAAAgPUIHgAAYD2CBwAAWI/gAQAA1iN4AACA9QgeAABgPYIHAABYj+ABAADWI3gAAID1CB4AAGA9ggcAAFiP4AEAANYjeAAAgPUIHgAAYD2CBwAAWI/gAQAA1iN4AACA9QgeAABgPYIHAABYj+ABAADWI3gAAID1CB4AAGA9ggcAAFiP4AEAANYjeAAAgPUIHgAAYD2CBwAAWI/gAQAA1iN4AACA9Wo0eE6fPq2JEyeqd+/eatasmQICAtSyZUv169dPv//972WM8ZgfEhIih8NxxS0vL6+Gng0AAP/a1q5dq/79+6tx48aqU6eO2rZtq5/97Gde51aXy6Xk5GRFREQoICBAERERSk5OlsvlqvKxL168qPnz5ys6Olr169dX/fr11blzZ02YMMFjnjFGU6dO1Y9//GO1aNFCgYGBCgsLU0xMjBYvXqxLly5V67k5zHer4iY6cOCAunXrprvvvlu33XabGjVqpIKCAr3//vsqKCjQL37xC7311ltyuVwKCQnRtGnTFBAQUOnjZGRkKDIyUjk5OTXwTAAA+NdljFFSUpLeeusttW/fXgMGDFD9+vV1/Phxbd68WRkZGerTp48k6ezZs+rTp4/27Nmj/v37q0ePHvrf//1frV+/Xt26ddPWrVsVFBQkSe7z95EjRzRixAh98skniomJUe/evSVJhw8f1ubNm1VYWOheS2lpqerVq6fo6GhFRkaqSZMm+uabb7R+/XodOXJEAwYMUGZmpmrV8vGajalBpaWl5tKlS17jLpfL3HnnnUaS+fzzz01RUZGRZIqKiip9nMcff9xIMvPmzbvRSwYAwDqvvPKKkWQmTJhgSktLvX7/7XP1zJkzjSTz9NNPe8ypGJ85c6Z7rOL8ff/99xuHw2EyMjKu+NgVzp8/X+m8e+65x0gyf/zjH316fsYYU6NXeK4kOTlZL7/8statW6d77rlHISEhKioqUnBwsMe8CxcuqEWLFjp79qyOHTumJk2a1NCKAQD413P+/Hm1atVKDRo00D/+8Q85nc4q5xpj1KpVK7lcLp04ccJ9JUf6//Nx3bp1lZeXJ4fD4b7CI0mjR4/Wu+++e01rffXVVzVp0iQtWLBAkyZN8mnfat3Dk5aWprZt2yowMFBRUVHKzs6+4vzNmzcrKipKgYGBateunRYuXHjF+RcuXNDGjRvlcDh05513XnHumjVr9M0332jo0KHEDgAAPsrKytLXX3+tYcOGqaysTGvWrNHzzz+vhQsX6sCBAx5z9+/fr+PHjys2NtYjdiQpMDBQP/rRj/TVV1957SdJDz74oAoLC7VkyRKlpqZq2bJlOnXq1FWvs7y8XOvXr5ckde7c2efnWXXGVWHlypWaPHmy0tLSFBsbqzfffFMJCQnKyclR69atveYfPnxYgwYN0i9+8QstW7ZM27Zt02OPPaYmTZrogQcekHT55uUFCxaovLxcBQUFyszMVF5enlJSUtShQ4cr3gS1ePFiSVJiYqKvTwUAgB+8nTt3SpKcTqe6du2qf/zjH+7f1apVS1OmTNFLL70k6XLwSFKHDh0qfayK8f3793vNOXDggEaPHq2ioiL3WL169bRo0SKNHDmy0sebNWuWJKmwsFB/+ctf9OWXX2rcuHG69957fX6ePgfP/PnzNX78eHdgLFiwQB9++KHS09OVmprqNX/hwoVq3bq1FixYIEmKjIzUzp079dJLL3kEz+zZs9371K5dW88995yeeOIJuVwu93+c74bPkSNH9NFHHyk8PFy9evW6YhgBAABvx44dkyTNmzdPXbt21caNG3X77bfr73//uyZNmqR58+apRYsWSkxM1IkTJyRdvppT2Tm34o1FJ06ckMvl8pgzdepUjRo1SikpKWrUqJE++OADPfbYYxo9erQiIyPVpUsXr8f7dhs4HA499dRTlbbGVfHlhp+SkhLj5+dn1qxZ4zE+ceJE86Mf/ajSfeLi4szEiRM9xtasWWOcTqe5ePGix3hpaak5fPiwuffee40kNjY2NjY2Nku27t27m/Lyco/zfnp6upFkxo8fX2V7lJWVmby8PJOenm4aNGhgYmNjq3wT05X4dIWnsLBQZWVlCgsL8xgPCwtzV993nThxotL5paWlKiwsVPPmzd3jfn5+atOmjT744AO9+OKLmjlzpubNm6fhw4crIiJCubm57pufysvL1blzZ+Xn5+vvf/+7wsPDfXkqqCaXy6Xw8HDl5eV53UCOm4tjcevgWNxaOB6+efbZZ/Xaa68pJiZGf/rTn7x+3717dx06dEhHjx7Vjh07NGLECP3yl7/Ub3/72yofa9WqVYqPj1dRUZH7dpf7779fDofDY/6QIUP06KOPul9Wq0ytWrXUqlUrJSUlqXHjxhoxYoR+/etf64UXXvDpefr8kpYkrwUbY7zGvm9+ZeMVAgICNHToUM2cOVM7duxwv3wWEhLi/j/ezMxMffXVVxowYIA6depUnaeBaxAcHMz/kNwiOBa3Do7FrYXjcXUqXkpq3Lhxpf+9GjVqpEOHDql27drq2rWrJOno0aOVzs3NzZUkde3a1ev3DRo08JpfMXb+/PmrWmt8fLwkadOmTVc1/9t8Cp7Q0FD5+fl5Xc0pKCjwuopToVmzZpXOdzqdaty4cZV/6/jx45cXWMXb47hZGQCAa3fPPfdIkr744guv3126dEkHDhxQUFCQmjRpombNmqlFixbatm2bzp496/W29C1btqhFixa67bbbvB6rsg8Grhhr06bNVa31+9rgSnx6W7q/v7+ioqKUlZXlMZ6VlaWYmJhK9+ndu7fX/A0bNig6Olp79+71uFu7wtdff61nnnlGkpSQkOD1+3/+8596//33FRoaqqFDh/ryFAAAwLe0b99e8fHxOnDggBYtWuTxu+eff16nT5/Wv//7v8vpdMrhcCgxMVFnzpzRnDlzPOampqbqm2++UWJiotcrOI0bN1ZGRoY+++wz99jFixeVkpIiSRoxYoR7/Msvv1RBQYHXOs+dO6fk5GRJlbfB9/L1pp//+Z//MbVr1zaLFy82OTk5ZvLkySYoKMgcOXLEGGPMtGnTzOjRo93zDx06ZOrWrWumTJlicnJyzOLFi03t2rXN6tWrzaRJk0xQUJC5//77zYQJE8zTTz9tRo4caerVq2ckmQceeMCUlZWZCxcumJSUFHPhwgVjjDEvvfSSkWSSk5N9vmkJ1+a7xwI1h2Nx6+BY3Fo4Hr47cOCAadq0qZFkBg8ebJ588knTr18/I8lERESY/Px899wzZ86Ybt26GUmmf//+Ztq0aSYhIcFIMt26dTNnzpxxz604Fr/73e+Mn5+fqVu3rhkzZoyZNGmS6dSpk5FkBg0a5PHpzi+//LLx9/c38fHxJikpyfznf/6n+Y//+A/TuHFjI8nExsaas2fP+vwcq/XVEm+88YaJiIgw/v7+pkePHmbz5s3u340dO9b07dvXY/6mTZtM9+7djb+/v2nTpo1JT083xhiTnZ1txo0bZ+644w4THBxsnE6nadq0qRk4cKBZvny5193cFSIjI40kk5OTU53lAwCA78jNzTXjxo0zzZo1M7Vr1zbh4eFmwoQJ5uTJk15zT58+baZMmWLCw8Pdc6dMmWJOnz5d5eNv3brVDBw40DRo0MD4+/ubTp06mRdeeMHrqyU+++wz8+ijj5q77rrLNGzY0DidTtO4cWPTt29fk56eXulXUVyNW/arJQAAAK6Xan21BAAAwL8SggcAAFiP4AEAANYjeAAAgPVumeBJS0tT27ZtFRgYqKioKGVnZ19x/ubNmxUVFaXAwEC1a9dOCxcuvEkrtZ8vx2LNmjXq37+/mjRpouDgYPXu3VsffvjhTVyt3Xz9d1Fh27Ztcjqd6tat241d4A+Ir8eipKREM2bMUEREhAICAtS+fXstWbLkJq3Wbr4ei4yMDHXt2lV169ZV8+bN9cgjj+jUqVM3abX22rJli4YMGaIWLVrI4XBo3bp137tPjZ67q/Xeruus4rN93n77bZOTk+P+fJ6jR49WOr/is30mTZpkcnJyzNtvv+3+bB9cG1+PxaRJk8wLL7xgPvnkE7Nv3z4zffp0U7t2bfO3v/3tJq/cPr4eiwqnT5827dq1M/Hx8aZr1643Z7GWq86xGDp0qOnVq5fJysoyhw8fNjt27DDbtm27iau2k6/HIjs729SqVcu88sor5tChQyY7O9t06tTJDBs27Cav3D6ZmZlmxowZ5ve//72RZNauXXvF+TV97r4lgqdnz54mKSnJY+yOO+4w06ZNq3T+008/be644w6PsV/96lfm7rvvvmFr/KHw9VhU5s477zSzZ8++3kv7wanusRg5cqR59tlnTUpKCsFznfh6LP70pz+ZkJAQc+rUqZuxvB8UX4/Fb3/7W9OuXTuPsVdffdW0atXqhq3xh+hqgqemz901/pLWxYsXtWvXLvcXglWIj4/X9u3bK93n448/9po/YMAA7dy5U5cuXbpha7VddY7Fd5WXl6u4uFiNGjW6EUv8wajusVi6dKkOHjzo/rh2XLvqHIv33ntP0dHRevHFF9WyZUt17NhRTz311FV/QSIqV51jERMTo2PHjikzM1PGGJ08eVKrV6/W4MGDb8aS8S01fe6u1relX0+FhYUqKyvz+vLRsLAwry8drXDixIlK55eWlqqwsFDNmze/Yeu1WXWOxXfNmzdPZ8+e9fheFPiuOsdi//79mjZtmrKzs6v1xXqoXHWOxaFDh7R161YFBgZq7dq1Kiws1GOPPaavv/6a+3iuQXWORUxMjDIyMjRy5EhduHBBpaWlGjp0qF577bWbsWR8S02fu2v8Ck+F737RmDHGa+z75lc2Dt/5eiwqrFixQrNmzdLKlSvVtGnTG7W8H5SrPRZlZWV6+OGHNXv2bHXs2PFmLe8HxZd/F+Xl5XI4HMrIyFDPnj01aNAgzZ8/X++88w5Xea4DX45FTk6OJk6cqJkzZ2rXrl1av369Dh8+rKSkpJuxVHxHTZ67a/z/DQwNDZWfn59XnRcUFHiVYIVmzZpVOt/pdKpx48Y3bK22q86xqLBy5UqNHz9eq1at0n333Xcjl/mD4OuxKC4u1s6dO7V79249/vjjki6fdI0xcjqd2rBhg/r163dT1m6b6vy7aN68uVq2bKmQkBD3WGRkpIwxOnbsmDp06HBD12yr6hyL1NRUxcbGaurUqZKkLl26KCgoSHFxcZo7dy6vCNxENX3urvErPP7+/oqKilJWVpbHeFZWlmJiYirdp3fv3l7zN2zYoOjoaNWuXfuGrdV21TkW0uUrO+PGjdPy5ct5Xfw68fVYBAcH67PPPtOePXvcW1JSkm6//Xbt2bNHvXr1ullLt051/l3Exsbq+PHjOnPmjHts3759qlWrllq1anVD12uz6hyLc+fOqVYtz1Odn5+fpP+/uoCbo8bP3Tfl1ujvUfE2w8WLF5ucnBwzefJkExQUZI4cOWKMMWbatGlm9OjR7vkVb22bMmWKycnJMYsXL+Zt6deJr8di+fLlxul0mjfeeMPk5+e7tyt9Yy6ujq/H4rt4l9b14+uxKC4uNq1atTLDhw83e/fuNZs3bzYdOnQwiYmJNfUUrOHrsVi6dKlxOp0mLS3NHDx40GzdutVER0ebnj171tRTsEZxcbHZvXu32b17t5Fk5s+fb3bv3u3+iIBb7dx9SwSPMca88cYbJiIiwvj7+5sePXqYzZs3u383duxY07dvX4/5mzZtMt27dzf+/v6mTZs2Jj09/Sav2F6+HIu+ffsaSV7b2LFjb/7CLeTrv4tvI3iuL1+PxRdffGHuu+8+U6dOHdOqVSuTnJxszp07d5NXbSdfj8Wrr75q7rzzTlOnTh3TvHlzM2rUKHPs2LGbvGr7fPTRR1f83/9b7dztMIZregAAwG41fg8PAADAjUbwAAAA6xE8AADAegQPAACwHsEDAACsR/AAAADrETwAAMB6BA8AALAewQMAAKxH8AAAAOsRPAAAwHr/B4DwhmZrUSxXAAAAAElFTkSuQmCC",
      "text/plain": [
       "<Figure size 640x480 with 1 Axes>"
      ]
     },
     "metadata": {},
     "output_type": "display_data"
    }
   ],
   "source": [
    "#Text annotations\n",
    "for i in range(2):\n",
    "    for j in range(2):\n",
    "        plt.text(j, i, str(confusion_mat[i, j]), \n",
    "                 ha=\"center\", va=\"center\", color=\"black\", fontsize=14)"
   ]
  },
  {
   "cell_type": "markdown",
   "id": "f09f2e13",
   "metadata": {},
   "source": [
    "## Storytelling and Conclusion"
    "For our project, we created a movie recommender system with the goal of helping viewers choose a movie based on their previous rating history.\n"
    "First, in the pre-processing stage we made sure the data set contained no null or missing values, checked if all the movieIDs referenced in the ratings 
     file actually existed in the movies file, and converted the UNIX timestamps into a readable data/time format.\n"
   ]
  },
  {
   "cell_type": "markdown",
   "id": "b924760e",
   "metadata": {},
   "source": []
  },
  {
   "cell_type": "markdown",
   "id": "fb862a16",
   "metadata": {},
   "source": [
    "## Impact Section"
   ]
  },
  {
   "cell_type": "markdown",
   "id": "f00a18c1",
   "metadata": {},
   "source": [
    "## References"
   ]
  }
 ],
 "metadata": {
  "kernelspec": {
   "display_name": "Python 3",
   "language": "python",
   "name": "python3"
  },
  "language_info": {
   "codemirror_mode": {
    "name": "ipython",
    "version": 3
   },
   "file_extension": ".py",
   "mimetype": "text/x-python",
   "name": "python",
   "nbconvert_exporter": "python",
   "pygments_lexer": "ipython3",
   "version": "3.11.11"
  }
 },
 "nbformat": 4,
 "nbformat_minor": 5
}
