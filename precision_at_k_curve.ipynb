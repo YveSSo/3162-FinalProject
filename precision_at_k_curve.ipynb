{
 "cells": [
  {
   "cell_type": "code",
   "execution_count": 1,
   "id": "b38c52f8",
   "metadata": {},
   "outputs": [
    {
     "ename": "NameError",
     "evalue": "name 'user_profiles_norm' is not defined",
     "output_type": "error",
     "traceback": [
      "\u001b[0;31m---------------------------------------------------------------------------\u001b[0m",
      "\u001b[0;31mNameError\u001b[0m                                 Traceback (most recent call last)",
      "Cell \u001b[0;32mIn[1], line 17\u001b[0m\n\u001b[1;32m     13\u001b[0m recommendations \u001b[38;5;241m=\u001b[39m {}\n\u001b[1;32m     15\u001b[0m k \u001b[38;5;241m=\u001b[39m \u001b[38;5;241m20\u001b[39m\n\u001b[0;32m---> 17\u001b[0m \u001b[38;5;28;01mfor\u001b[39;00m uid, uvec \u001b[38;5;129;01min\u001b[39;00m user_profiles_norm\u001b[38;5;241m.\u001b[39mitems():\n\u001b[1;32m     18\u001b[0m     \u001b[38;5;66;03m# movies user has already rated (train)\u001b[39;00m\n\u001b[1;32m     19\u001b[0m     seen \u001b[38;5;241m=\u001b[39m \u001b[38;5;28mset\u001b[39m(train_ratings[train_ratings[\u001b[38;5;124m'\u001b[39m\u001b[38;5;124muserId\u001b[39m\u001b[38;5;124m'\u001b[39m] \u001b[38;5;241m==\u001b[39m uid][\u001b[38;5;124m'\u001b[39m\u001b[38;5;124mmovieId\u001b[39m\u001b[38;5;124m'\u001b[39m])\n\u001b[1;32m     21\u001b[0m     \u001b[38;5;66;03m# candidate pool = all movies minus seen\u001b[39;00m\n",
      "\u001b[0;31mNameError\u001b[0m: name 'user_profiles_norm' is not defined"
     ]
    }
   ],
   "source": [
    "#graph average precision at k with k ranging from 1 to 20\n",
    "\n",
    "import matplotlib.pyplot as plt\n",
    "import numpy as np\n",
    "import seaborn as sns\n",
    "\n",
    "#using trained moddel generate top k recommendations for each user and then calculate average precision at k\n",
    "#build a dictionary of k values and their corresponding average precision at k\n",
    "\n",
    "k_values = {}\n",
    "\n",
    "#generate top 20 recommendations for each user\n",
    "recommendations = {}\n",
    "\n",
    "k = 20\n",
    "\n",
    "for uid, uvec in user_profiles_norm.items():\n",
    "    # movies user has already rated (train)\n",
    "    seen = set(train_ratings[train_ratings['userId'] == uid]['movieId'])\n",
    "    \n",
    "    # candidate pool = all movies minus seen\n",
    "    candidates = genre_matrix.drop(index=seen, errors='ignore')\n",
    "    \n",
    "    # compute cosine similarity\n",
    "    sims = cosine_similarity(uvec.reshape(1, -1), candidates.values)[0]\n",
    "    \n",
    "    # grab the Top‑K movieIds\n",
    "    top_k_ids = candidates.index[np.argsort(sims)[-K:][::-1]]\n",
    "    recommendations[uid] = list(top_k_ids)\n",
    "\n",
    "#calculate the average precision at k ranging from 1 to 20 and use to fill k_values dictionary\n",
    "k = 1\n",
    "for k in range(1, 21):\n",
    "\n",
    "    precision_at_k = {}\n",
    "    for uid, recs in recommendations.items():\n",
    "        a = 0\n",
    "        for movie in recs[:k]:\n",
    "            if movie in good_test_ratings['movieId'][good_test_ratings['userId'] == uid].values:\n",
    "                a += 1\n",
    "        precision_at_k[uid] = a / k\n",
    "\n",
    "        #find average precision at k for all users\n",
    "    sum_precision = 0\n",
    "    for uid, recs in precision_at_k.items():\n",
    "        sum_precision += recs\n",
    "\n",
    "    average_precision = sum_precision / len(recommendations)\n",
    "    k_values[k] = average_precision\n",
    "\n",
    "\n",
    "#plot k_values\n",
    "plt.plot(list(k_values.keys()), list(k_values.values()))\n",
    "plt.xlabel('K (number of recommendations)')\n",
    "plt.ylabel('Average Precision at K')\n",
    "plt.title('Average Precision at K vs K')\n",
    "plt.xticks(list(k_values.keys()))\n",
    "plt.show()"
   ]
  }
 ],
 "metadata": {
  "kernelspec": {
   "display_name": "base",
   "language": "python",
   "name": "python3"
  },
  "language_info": {
   "codemirror_mode": {
    "name": "ipython",
    "version": 3
   },
   "file_extension": ".py",
   "mimetype": "text/x-python",
   "name": "python",
   "nbconvert_exporter": "python",
   "pygments_lexer": "ipython3",
   "version": "3.12.7"
  }
 },
 "nbformat": 4,
 "nbformat_minor": 5
}
